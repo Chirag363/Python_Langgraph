{
 "cells": [
  {
   "cell_type": "code",
   "execution_count": 4,
   "id": "e177a9a8",
   "metadata": {},
   "outputs": [],
   "source": [
    "from typing import Annotated  #hypotetical metadat type \n",
    "from typing_extensions import TypedDict\n",
    "from langgraph.graph import StateGraph,START,END\n",
    "from langgraph.graph.message import add_messages #it reducer-> adds/appends messages to the list instead of replacing them\n"
   ]
  },
  {
   "cell_type": "code",
   "execution_count": 5,
   "id": "0051248d",
   "metadata": {},
   "outputs": [],
   "source": [
    "class State(TypedDict):         #typeddi used for taking value in dictory format\n",
    "     messages:Annotated[list,add_messages]\n"
   ]
  },
  {
   "cell_type": "code",
   "execution_count": 6,
   "id": "e1ef10f6",
   "metadata": {},
   "outputs": [
    {
     "data": {
      "text/plain": [
       "True"
      ]
     },
     "execution_count": 6,
     "metadata": {},
     "output_type": "execute_result"
    }
   ],
   "source": [
    "import os \n",
    "from dotenv import load_dotenv\n",
    "load_dotenv()"
   ]
  },
  {
   "cell_type": "code",
   "execution_count": 7,
   "id": "3e715358",
   "metadata": {},
   "outputs": [],
   "source": [
    "from langchain.chat_models import init_chat_model\n",
    "from langchain_groq import ChatGroq\n",
    "llm = ChatGroq(model=\"openai/gpt-oss-20b\")\n"
   ]
  },
  {
   "cell_type": "code",
   "execution_count": 8,
   "id": "d41a3d37",
   "metadata": {},
   "outputs": [
    {
     "data": {
      "text/plain": [
       "ChatGroq(client=<groq.resources.chat.completions.Completions object at 0x000002308231E3C0>, async_client=<groq.resources.chat.completions.AsyncCompletions object at 0x0000023083C76B40>, model_name='openai/gpt-oss-20b', model_kwargs={}, groq_api_key=SecretStr('**********'))"
      ]
     },
     "execution_count": 8,
     "metadata": {},
     "output_type": "execute_result"
    }
   ],
   "source": [
    "llm"
   ]
  },
  {
   "cell_type": "code",
   "execution_count": 9,
   "id": "7d24e99b",
   "metadata": {},
   "outputs": [],
   "source": [
    "#Node funcitonaluty \n",
    "def chatbot(state:State):\n",
    "  return {\"messages\":[llm.invoke(state[\"messages\"])]}  #the msg variblae is same as we declar in the class State "
   ]
  },
  {
   "cell_type": "code",
   "execution_count": 10,
   "id": "b2b4ce89",
   "metadata": {},
   "outputs": [],
   "source": [
    "graph_builder = StateGraph(State)\n",
    "graph_builder.add_node(\"llmchatbot\",chatbot)\n",
    "\n",
    "graph_builder.add_edge(START,\"llmchatbot\")\n",
    "graph_builder.add_edge(\"llmchatbot\",END)\n",
    "\n",
    "#compiling thr graph \n",
    "graph = graph_builder.compile()"
   ]
  },
  {
   "cell_type": "code",
   "execution_count": 11,
   "id": "d0d8965a",
   "metadata": {},
   "outputs": [
    {
     "data": {
      "image/png": "[encoded data removed]",
      "text/plain": [
       "<IPython.core.display.Image object>"
      ]
     },
     "metadata": {},
     "output_type": "display_data"
    }
   ],
   "source": [
    "#vsiulaization graph \n",
    "from IPython.display import Image,display\n",
    "\n",
    "try:\n",
    "  display(Image(graph.get_graph().draw_mermaid_png()))\n",
    "except Exception:\n",
    "  pass  "
   ]
  },
  {
   "cell_type": "code",
   "execution_count": 12,
   "id": "5620b841",
   "metadata": {},
   "outputs": [],
   "source": [
    "response = graph.invoke({\"messages\":\"hi\"})"
   ]
  },
  {
   "cell_type": "code",
   "execution_count": 13,
   "id": "bc2d822e",
   "metadata": {},
   "outputs": [
    {
     "data": {
      "text/plain": [
       "'Hello! 👋 How can I help you today?'"
      ]
     },
     "execution_count": 13,
     "metadata": {},
     "output_type": "execute_result"
    }
   ],
   "source": [
    "response[\"messages\"][-1].content  #reading the data"
   ]
  },
  {
   "cell_type": "code",
   "execution_count": 14,
   "id": "5e705987",
   "metadata": {},
   "outputs": [
    {
     "name": "stdout",
     "output_type": "stream",
     "text": [
      "Hey! I’m doing great—thanks for asking. How about you? What’s new on your end?\n"
     ]
    }
   ],
   "source": [
    "for event in graph.stream({\"messages\":\"Hi How are you?\"}): #Streaming \n",
    "  for value in event.values():\n",
    "    print(value[\"messages\"][-1].content)"
   ]
  },
  {
   "cell_type": "markdown",
   "id": "a41b72ad",
   "metadata": {},
   "source": [
    "### How to make use of the tools in Agent\n"
   ]
  },
  {
   "cell_type": "code",
   "execution_count": 15,
   "id": "eba8c190",
   "metadata": {},
   "outputs": [
    {
     "data": {
      "text/plain": [
       "{'query': 'What is langgraph ?',\n",
       " 'follow_up_questions': None,\n",
       " 'answer': None,\n",
       " 'images': [],\n",
       " 'results': [{'url': 'https://www.geeksforgeeks.org/machine-learning/what-is-langgraph/',\n",
       "   'title': 'What is LangGraph? - GeeksforGeeks',\n",
       "   'content': 'LangGraph is an open-source framework built by LangChain that streamlines the creation and management of AI agent workflows.',\n",
       "   'score': 0.9470345,\n",
       "   'raw_content': None},\n",
       "  {'url': 'https://huggingface.co/learn/agents-course/en/unit2/langgraph/when_to_use_langgraph',\n",
       "   'title': 'What is LangGraph ? - Hugging Face Agents Course',\n",
       "   'content': 'What is LangGraph ? # What is LangGraph ? `LangGraph` is a framework developed by LangChain **to manage the control flow of applications that integrate an LLM**. `LangGraph` is on the other end of the spectrum, it shines when you need **“Control”** on the execution of your agent. LangGraph is particularly valuable when you need **Control over your applications**. Put simply, if your application involves a series of steps that need to be orchestrated in a specific way, with decisions being made at each junction point, **LangGraph provides the structure you need**. Why do I need LangGraph? You could build the same application without LangGraph, but it builds easier tools and abstractions for you.',\n",
       "   'score': 0.93624437,\n",
       "   'raw_content': None},\n",
       "  {'url': 'https://www.analyticsvidhya.com/blog/2024/07/langgraph-revolutionizing-ai-agent/',\n",
       "   'title': 'What is LangGraph? - Analytics Vidhya',\n",
       "   'content': '* LangGraph is a library built on top of Langchain that is designed to facilitate the creation of cyclic graphs for large language model (LLM) – based AI agents. * Langgraph introduces a chat agent executor that represents the agent state as a list of messages, which is particularly useful for newer, chat-based models. The agent executor class in the Langchain framework was the main tool for building and executing AI agents before LangGraph. Large Language Models (LLMs) are the foundation for designing sophisticated AI agents, and LangGraph, built on top of Langchain, is intended to make the process of creating cyclic graphs easier. Ans. LangGraph addresses the limitations of previous AI agent development frameworks by providing more flexibility, better state management, and support for cyclic execution and multi-agent systems.',\n",
       "   'score': 0.933534,\n",
       "   'raw_content': None},\n",
       "  {'url': 'https://www.ibm.com/think/topics/langgraph',\n",
       "   'title': 'What is LangGraph? - IBM',\n",
       "   'content': 'LangGraph, created by LangChain, is an open source AI agent framework designed to build, deploy and manage complex generative AI agent workflows.',\n",
       "   'score': 0.9242583,\n",
       "   'raw_content': None},\n",
       "  {'url': 'https://langchain-ai.github.io/langgraph/',\n",
       "   'title': 'LangGraph - GitHub Pages',\n",
       "   'content': '# LangGraph Trusted by companies shaping the future of agents – including Klarna, Replit, Elastic, and more – LangGraph is a low-level orchestration framework for building, managing, and deploying long-running, stateful agents. Install LangGraph: from langgraph.prebuilt import create_react_agent Or, to learn how to build an agent workflow with a customizable architecture, long-term memory, and other complex task handling, see the LangGraph basics tutorials. LangGraph provides low-level supporting infrastructure for *any* long-running, stateful workflow or agent. While LangGraph can be used standalone, it also integrates seamlessly with any LangChain product, giving developers a full suite of tools for building agents. * LangGraph Platform — Deploy and scale agents effortlessly with a purpose-built deployment platform for long running, stateful workflows.',\n",
       "   'score': 0.9158166,\n",
       "   'raw_content': None}],\n",
       " 'response_time': 0.88,\n",
       " 'request_id': 'd4da790e-dc7c-4fc3-ab51-f9546d6b8e3a'}"
      ]
     },
     "execution_count": 15,
     "metadata": {},
     "output_type": "execute_result"
    }
   ],
   "source": [
    "from langchain_tavily import TavilySearch\n",
    "\n",
    "tool = TavilySearch(max_result=2)\n",
    "tool.invoke(\"What is langgraph ?\")"
   ]
  },
  {
   "cell_type": "code",
   "execution_count": 16,
   "id": "59258699",
   "metadata": {},
   "outputs": [],
   "source": [
    "# defining the DOC STRING\n",
    "def multiply(a:int,b:int)->int:\n",
    "  \"\"\"Multiply a and b \n",
    "\n",
    "  Args:\n",
    "  a (int): first int\n",
    "  b (int): second int \n",
    "\n",
    "  Returns:\n",
    "  int:output int\n",
    "\n",
    "\"\"\"\n",
    "  return a*b\n"
   ]
  },
  {
   "cell_type": "code",
   "execution_count": 17,
   "id": "659f749a",
   "metadata": {},
   "outputs": [],
   "source": [
    "tools = [tool,multiply]  #we are using 2 tools"
   ]
  },
  {
   "cell_type": "code",
   "execution_count": 18,
   "id": "33bead73",
   "metadata": {},
   "outputs": [],
   "source": [
    "llm_with_tool=llm.bind_tools(tools)"
   ]
  },
  {
   "cell_type": "code",
   "execution_count": 19,
   "id": "33aca2c7",
   "metadata": {},
   "outputs": [
    {
     "data": {
      "text/plain": [
       "RunnableBinding(bound=ChatGroq(client=<groq.resources.chat.completions.Completions object at 0x000002308231E3C0>, async_client=<groq.resources.chat.completions.AsyncCompletions object at 0x0000023083C76B40>, model_name='openai/gpt-oss-20b', model_kwargs={}, groq_api_key=SecretStr('**********')), kwargs={'tools': [{'type': 'function', 'function': {'name': 'tavily_search', 'description': 'A search engine optimized for comprehensive, accurate, and trusted results. Useful for when you need to answer questions about current events. It not only retrieves URLs and snippets, but offers advanced search depths, domain management, time range filters, and image search, this tool delivers real-time, accurate, and citation-backed results.Input should be a search query.', 'parameters': {'properties': {'query': {'description': 'Search query to look up', 'type': 'string'}, 'include_domains': {'anyOf': [{'items': {'type': 'string'}, 'type': 'array'}, {'type': 'null'}], 'default': [], 'description': 'A list of domains to restrict search results to.\\n\\n        Use this parameter when:\\n        1. The user explicitly requests information from specific websites (e.g., \"Find climate data from nasa.gov\")\\n        2. The user mentions an organization or company without specifying the domain (e.g., \"Find information about iPhones from Apple\")\\n\\n        In both cases, you should determine the appropriate domains (e.g., [\"nasa.gov\"] or [\"apple.com\"]) and set this parameter.\\n\\n        Results will ONLY come from the specified domains - no other sources will be included.\\n        Default is None (no domain restriction).\\n        '}, 'exclude_domains': {'anyOf': [{'items': {'type': 'string'}, 'type': 'array'}, {'type': 'null'}], 'default': [], 'description': 'A list of domains to exclude from search results.\\n\\n        Use this parameter when:\\n        1. The user explicitly requests to avoid certain websites (e.g., \"Find information about climate change but not from twitter.com\")\\n        2. The user mentions not wanting results from specific organizations without naming the domain (e.g., \"Find phone reviews but nothing from Apple\")\\n\\n        In both cases, you should determine the appropriate domains to exclude (e.g., [\"twitter.com\"] or [\"apple.com\"]) and set this parameter.\\n\\n        Results will filter out all content from the specified domains.\\n        Default is None (no domain exclusion).\\n        '}, 'search_depth': {'anyOf': [{'enum': ['basic', 'advanced'], 'type': 'string'}, {'type': 'null'}], 'default': 'basic', 'description': 'Controls search thoroughness and result comprehensiveness.\\n    \\n        Use \"basic\" for simple queries requiring quick, straightforward answers.\\n        \\n        Use \"advanced\" (default) for complex queries, specialized topics, \\n        rare information, or when in-depth analysis is needed.\\n        '}, 'include_images': {'anyOf': [{'type': 'boolean'}, {'type': 'null'}], 'default': False, 'description': 'Determines if the search returns relevant images along with text results.\\n   \\n        Set to True when the user explicitly requests visuals or when images would \\n        significantly enhance understanding (e.g., \"Show me what black holes look like,\" \\n        \"Find pictures of Renaissance art\").\\n        \\n        Leave as False (default) for most informational queries where text is sufficient.\\n        '}, 'time_range': {'anyOf': [{'enum': ['day', 'week', 'month', 'year'], 'type': 'string'}, {'type': 'null'}], 'default': None, 'description': 'Limits results to content published within a specific timeframe.\\n        \\n        ONLY set this when the user explicitly mentions a time period \\n        (e.g., \"latest AI news,\" \"articles from last week\").\\n        \\n        For less popular or niche topics, use broader time ranges \\n        (\"month\" or \"year\") to ensure sufficient relevant results.\\n   \\n        Options: \"day\" (24h), \"week\" (7d), \"month\" (30d), \"year\" (365d).\\n        \\n        Default is None.\\n        '}, 'topic': {'anyOf': [{'enum': ['general', 'news', 'finance'], 'type': 'string'}, {'type': 'null'}], 'default': 'general', 'description': 'Specifies search category for optimized results.\\n   \\n        Use \"general\" (default) for most queries, INCLUDING those with terms like \\n        \"latest,\" \"newest,\" or \"recent\" when referring to general information.\\n\\n        Use \"finance\" for markets, investments, economic data, or financial news.\\n\\n        Use \"news\" ONLY for politics, sports, or major current events covered by \\n        mainstream media - NOT simply because a query asks for \"new\" information.\\n        '}, 'include_favicon': {'anyOf': [{'type': 'boolean'}, {'type': 'null'}], 'default': False, 'description': \"Determines whether to include favicon URLs for each search result.\\n        \\n        When enabled, each search result will include the website's favicon URL,\\n        which can be useful for:\\n        - Building rich UI interfaces with visual website indicators\\n        - Providing visual cues about the source's credibility or brand\\n        - Creating bookmark-like displays with recognizable site icons\\n        \\n        Set to True when creating user interfaces that benefit from visual branding\\n        or when favicon information enhances the user experience.\\n        \\n        Default is False to minimize response size and API usage.\\n        \"}, 'start_date': {'anyOf': [{'type': 'string'}, {'type': 'null'}], 'default': None, 'description': 'Filters search results to include only content published on or after this date.\\n        \\n        Use this parameter when you need to:\\n        - Find recent developments or updates on a topic\\n        - Exclude outdated information from search results\\n        - Focus on content within a specific timeframe\\n        - Combine with end_date to create a custom date range\\n        \\n        Format must be YYYY-MM-DD (e.g., \"2024-01-15\" for January 15, 2024).\\n        \\n        Examples:\\n        - \"2024-01-01\" - Results from January 1, 2024 onwards\\n        - \"2023-12-25\" - Results from December 25, 2023 onwards\\n        \\n        When combined with end_date, creates a precise date range filter.\\n        \\n        Default is None (no start date restriction).\\n        '}, 'end_date': {'anyOf': [{'type': 'string'}, {'type': 'null'}], 'default': None, 'description': 'Filters search results to include only content published on or before this date.\\n        \\n        Use this parameter when you need to:\\n        - Exclude content published after a certain date\\n        - Study historical information or past events\\n        - Research how topics were covered during specific time periods\\n        - Combine with start_date to create a custom date range\\n        \\n        Format must be YYYY-MM-DD (e.g., \"2024-03-31\" for March 31, 2024).\\n        \\n        Examples:\\n        - \"2024-03-31\" - Results up to and including March 31, 2024\\n        - \"2023-12-31\" - Results up to and including December 31, 2023\\n        \\n        When combined with start_date, creates a precise date range filter.\\n        For example: start_date=\"2024-01-01\", end_date=\"2024-03-31\" \\n        returns results from Q1 2024 only.\\n        \\n        Default is None (no end date restriction).\\n        '}}, 'required': ['query'], 'type': 'object'}}}, {'type': 'function', 'function': {'name': 'multiply', 'description': 'Multiply a and b ', 'parameters': {'properties': {'a': {'description': 'first int', 'type': 'integer'}, 'b': {'description': 'second int', 'type': 'integer'}}, 'required': ['a', 'b'], 'type': 'object'}}}]}, config={}, config_factories=[])"
      ]
     },
     "execution_count": 19,
     "metadata": {},
     "output_type": "execute_result"
    }
   ],
   "source": [
    "llm_with_tool"
   ]
  },
  {
   "cell_type": "code",
   "execution_count": 20,
   "id": "9a9b77ca",
   "metadata": {},
   "outputs": [
    {
     "data": {
      "image/png": "[encoded data removed]",
      "text/plain": [
       "<IPython.core.display.Image object>"
      ]
     },
     "metadata": {},
     "output_type": "display_data"
    }
   ],
   "source": [
    "## State Graph \n",
    "#creating a toolnode \n",
    "from langgraph.graph import StateGraph,START,END\n",
    "from langgraph.prebuilt import ToolNode\n",
    "from langgraph.prebuilt import tools_condition\n",
    "\n",
    "##node def\n",
    "def tool_calling_llm(state:State):\n",
    "  return {\"messages\":[llm_with_tool.invoke(state[\"messages\"])]}\n",
    "\n",
    "\n",
    "##graph \n",
    "builder = StateGraph(State)\n",
    "builder.add_node(\"tool_calling_llm\",tool_calling_llm)\n",
    "builder.add_node(\"tools\",ToolNode(tools))\n",
    "\n",
    "#add edges \n",
    "builder.add_edge(START,\"tool_calling_llm\")\n",
    "# builder.add_edge(\"tool_calling_llm\",tools_condition)\n",
    "builder.add_conditional_edges(\n",
    "    \"tool_calling_llm\",  # from this node\n",
    "    tools_condition,     # condition function\n",
    ")\n",
    "builder.add_edge(\"tools\", END)\n",
    "\n",
    "#complining the graph \n",
    "graph = builder.compile()\n",
    "\n",
    "from IPython.display import Image,display\n",
    "display(Image(graph.get_graph().draw_mermaid_png()))\n"
   ]
  },
  {
   "cell_type": "code",
   "execution_count": 21,
   "id": "946a40e3",
   "metadata": {},
   "outputs": [],
   "source": [
    "response = graph.invoke({\"messages\":\"What is the recent ai news\"})"
   ]
  },
  {
   "cell_type": "code",
   "execution_count": 22,
   "id": "e9c72670",
   "metadata": {},
   "outputs": [
    {
     "data": {
      "text/plain": [
       "'{\"query\": \"latest AI news\", \"follow_up_questions\": null, \"answer\": null, \"images\": [], \"results\": [{\"url\": \"https://med.stanford.edu/news/all-news/2025/09/ai-crispr-gene-therapy.html\", \"title\": \"AI-powered CRISPR could lead to faster gene therapies, Stanford ...\", \"content\": \"Artificial Intelligence (AI)   June 05, 2025\\\\n\\\\nChatEHR, artificial intelligence software developed at Stanford Medicine, is expediting chart reviews and other tasks by allowing clinicians to ask questions of medical records.\\\\n\\\\ntolias-brain-model\\\\n\\\\nArtificial Intelligence (AI)   April 09, 2025\\\\n\\\\nIn a new study, researchers created an AI model of the mouse visual cortex that predicts neuronal responses to visual images.\\\\n\\\\nNigam-Shah-LLM-1\\\\n\\\\nArtificial Intelligence (AI)   April 08, 2025 [...] As artificial intelligence pervades health and medicine, researchers have developed a new evaluation framework to help scientists determine which type of algorithms are best suited for health care.\\\\n\\\\nai-aids-billing\\\\n\\\\nTDS Projects   March 28, 2025\\\\n\\\\nStanford Health Care piloted and fully implemented an artifical-intelligence-driven solution that automates the generation of draft responses to patient inquiries.\\\\n\\\\nStanford Medicine\\\\n\\\\nFollow Stanford Medicine:\\\\n\\\\nStanford Medicine\\\\n\\\\nNews\\\\n\\\\nCareers [...] mednews\\\\n\\\\nNews Center\\\\n\\\\nResearch\\\\n\\\\nEducation\\\\n\\\\nPatient Care\\\\n\\\\nGive\\\\n\\\\nAbout\\\\n\\\\nCong-CRISPR\\\\n\\\\n### News\\\\n\\\\nartificial-intelligence  September 16, 2025\\\\n\\\\n# AI-powered CRISPR could lead to faster gene therapies, Stanford Medicine study finds\\\\n\\\\nBy Carly Kay\\\\n\\\\nCRISPR-GPT, a large language model developed at Stanford Medicine, is accelerating gene-editing processes and increasing accessibility to CRISPR.\\\\n\\\\n##### Share Article:\", \"score\": 0.73459625, \"raw_content\": null}, {\"url\": \"https://www.youtube.com/watch?v=TIeunMsvNC4\", \"title\": \"AI Frontiers: Unveiling cs.AI Breakthroughs & Dilemmas (2025-09-10)\", \"content\": \"# AI Frontiers: Unveiling cs.AI Breakthroughs & Dilemmas (2025-09-10)\\\\n\\\\nAI Frontiers\\\\n0 likes\\\\n0 views\\\\n17 Sep 2025\\\\nStep behind the scenes of AI innovation with this special episode of AI Frontiers, synthesizing insights from 13 groundbreaking cs.AI papers published on September 10th, 2025. As artificial intelligence transforms fields from medicine to finance, this episode dives into the hidden challenges and dazzling advances shaping the discipline today. [...] Whether you’re an AI engineer, student, or curious listener, you’ll gain a clear view of the latest research themes—explainability, trust, robustness, multi-agent coordination, and the blending of learning with reasoning—plus a roadmap for building transparent, trustworthy, and inclusive AI. Join us to explore how today’s AI breakthroughs are not just about smarter algorithms, but about smarter collaboration between humans and machines. [...] Don’t miss this episode if you want to understand not only where AI is headed, but how to help shape its future!\\\\n\\\\n1. Carina Newen et al. (2025). Uncertainty Awareness and Trust in Explainable AI- On Trust Calibration   using Local and Global Explanations. \\\\n\\\\n2. Soheil Zibakhsh Shabgahi et al. (2025). ForTIFAI: Fending Off Recursive Training Induced Failure for AI Models. \\\\n\\\\n3. Junyang Cai et al. (2025). Global Constraint LLM Agents for Text-to-Model Translation.\", \"score\": 0.67758125, \"raw_content\": null}, {\"url\": \"https://www.theguardian.com/commentisfree/2025/sep/16/ai-wealth-inequality-cultural-division\", \"title\": \"AI will make the rich unfathomably richer. Is this really what we want?\", \"content\": \"Consider OpenAI, the technology giant behind ChatGPT. In a promo video announcing the latest upgrade for their flagship software, its CEO, Sam Altman, bragged: “It can write an entire computer program from scratch.” Three days later, the New York Times reported that computer science grads “are facing some of the highest unemployment rates” among their peers. And it’s not just coders and engineers. AI-powered automation promises to swallow up jobs at the low end of the labor market too, with\", \"score\": 0.59457535, \"raw_content\": null}, {\"url\": \"https://www.cnbc.com/2025/09/16/tech-giants-to-pour-billions-into-uk-ai-heres-what-we-know-so-far.html\", \"title\": \"Microsoft, Nvidia, Google multibillion-dollar investments in AI in UK\", \"content\": \"Nvidia, Google, OpenAI and Salesforce also announced plans for multibillion-dollar AI investments in the country. Combined the new investment dollars total over $40 billion.\\\\n\\\\nThe spending commitment comes as President Donald Trump embarks on a state visit to Britain. Trump arrived in the U.K. Tuesday evening and is set to be greeted at Windsor Castle on Wednesday by King Charles and Queen Camilla. [...] Starmer and Trump are expected to sign a new deal Wednesday \\\\\"to unlock investment and collaboration in AI, Quantum, and Nuclear technologies,\\\\\" the government said in a statement late Tuesday.\\\\n\\\\n## Nvidia, Google, OpenAI, Salesforce\\\\n\\\\nNvidia on Tuesday announced £11 billion ($15 billion) of investment in the U.K. with partners Nscale and U.S. infrastructure provider CoreWeave. [...] OpenAI is also making a major commitment to Britain in the form of \\\\\"Stargate U.K.\\\\\" — a dedicated U.K. version of its massive Stargate AI joint venture with SoftBank and Oracle.\\\\n\\\\nThe Microsoft-backed AI startup is partnering with Nscale and Nvidia on the U.K. project.\\\\n\\\\nOpenAI said it would deploy up to 8,000 GPUs to support AI adoption across the U.K. early next year, with the option to expand capacity to approximately 31,000 GPUs over time.\", \"score\": 0.5883458, \"raw_content\": null}, {\"url\": \"https://technicalmiki.com/ai-in-2025-top-10-tools-for-future-technology/\", \"title\": \"AI in 2025: Top 10 Useful Tools the Future of Technology\", \"content\": \"The evolution of artificial intelligence has reached a critical point where accessibility, power, and practical use cases are converging. In 2025, AI is expected to be more robust, ethical, and user-friendly than ever before. Businesses, educators, healthcare professionals, and creatives will all rely on advanced AI solutions to solve complex problems and unlock new opportunities. With ai in 2025, the line between human and machine collaboration is becoming increasingly blurred, making it [...] Synthesia is changing the way videos are produced by allowing users to create professional-quality videos with AI avatars and voiceovers. With ai in 2025, producing instructional, marketing, or entertainment videos will be more affordable and accessible to everyone.\\\\n\\\\n## 5. DeepMind’s MedAI: Transforming Healthcare [...] Artificial intelligence is no longer just a buzzword; it is an essential part of our daily lives, shaping industries and redefining how we interact with technology. As we approach 2025, the pace of AI innovation is accelerating, bringing with it a new wave of tools and platforms designed to simplify workflows, enhance productivity, and empower creativity. This blog post will explore the top 10 tools that are set to dominate the landscape of ai in 2025, providing you with insights into the\", \"score\": 0.5553635, \"raw_content\": null}], \"response_time\": 3.39, \"request_id\": \"0596fb98-db79-420b-afc0-5df6342590d1\"}'"
      ]
     },
     "execution_count": 22,
     "metadata": {},
     "output_type": "execute_result"
    }
   ],
   "source": [
    "response['messages'][-1].content"
   ]
  },
  {
   "cell_type": "code",
   "execution_count": 23,
   "id": "0cdb0610",
   "metadata": {},
   "outputs": [
    {
     "name": "stdout",
     "output_type": "stream",
     "text": [
      "================================\u001b[1m Human Message \u001b[0m=================================\n",
      "\n",
      "What is the recent ai news\n",
      "==================================\u001b[1m Ai Message \u001b[0m==================================\n",
      "Tool Calls:\n",
      "  tavily_search (fc_e96662f2-76de-4573-aa05-3016496aad29)\n",
      " Call ID: fc_e96662f2-76de-4573-aa05-3016496aad29\n",
      "  Args:\n",
      "    include_favicon: False\n",
      "    include_images: False\n",
      "    query: latest AI news\n",
      "    search_depth: advanced\n",
      "    time_range: day\n",
      "    topic: general\n",
      "=================================\u001b[1m Tool Message \u001b[0m=================================\n",
      "Name: tavily_search\n",
      "\n",
      "{\"query\": \"latest AI news\", \"follow_up_questions\": null, \"answer\": null, \"images\": [], \"results\": [{\"url\": \"https://med.stanford.edu/news/all-news/2025/09/ai-crispr-gene-therapy.html\", \"title\": \"AI-powered CRISPR could lead to faster gene therapies, Stanford ...\", \"content\": \"Artificial Intelligence (AI)   June 05, 2025\\n\\nChatEHR, artificial intelligence software developed at Stanford Medicine, is expediting chart reviews and other tasks by allowing clinicians to ask questions of medical records.\\n\\ntolias-brain-model\\n\\nArtificial Intelligence (AI)   April 09, 2025\\n\\nIn a new study, researchers created an AI model of the mouse visual cortex that predicts neuronal responses to visual images.\\n\\nNigam-Shah-LLM-1\\n\\nArtificial Intelligence (AI)   April 08, 2025 [...] As artificial intelligence pervades health and medicine, researchers have developed a new evaluation framework to help scientists determine which type of algorithms are best suited for health care.\\n\\nai-aids-billing\\n\\nTDS Projects   March 28, 2025\\n\\nStanford Health Care piloted and fully implemented an artifical-intelligence-driven solution that automates the generation of draft responses to patient inquiries.\\n\\nStanford Medicine\\n\\nFollow Stanford Medicine:\\n\\nStanford Medicine\\n\\nNews\\n\\nCareers [...] mednews\\n\\nNews Center\\n\\nResearch\\n\\nEducation\\n\\nPatient Care\\n\\nGive\\n\\nAbout\\n\\nCong-CRISPR\\n\\n### News\\n\\nartificial-intelligence  September 16, 2025\\n\\n# AI-powered CRISPR could lead to faster gene therapies, Stanford Medicine study finds\\n\\nBy Carly Kay\\n\\nCRISPR-GPT, a large language model developed at Stanford Medicine, is accelerating gene-editing processes and increasing accessibility to CRISPR.\\n\\n##### Share Article:\", \"score\": 0.73459625, \"raw_content\": null}, {\"url\": \"https://www.youtube.com/watch?v=TIeunMsvNC4\", \"title\": \"AI Frontiers: Unveiling cs.AI Breakthroughs & Dilemmas (2025-09-10)\", \"content\": \"# AI Frontiers: Unveiling cs.AI Breakthroughs & Dilemmas (2025-09-10)\\n\\nAI Frontiers\\n0 likes\\n0 views\\n17 Sep 2025\\nStep behind the scenes of AI innovation with this special episode of AI Frontiers, synthesizing insights from 13 groundbreaking cs.AI papers published on September 10th, 2025. As artificial intelligence transforms fields from medicine to finance, this episode dives into the hidden challenges and dazzling advances shaping the discipline today. [...] Whether you’re an AI engineer, student, or curious listener, you’ll gain a clear view of the latest research themes—explainability, trust, robustness, multi-agent coordination, and the blending of learning with reasoning—plus a roadmap for building transparent, trustworthy, and inclusive AI. Join us to explore how today’s AI breakthroughs are not just about smarter algorithms, but about smarter collaboration between humans and machines. [...] Don’t miss this episode if you want to understand not only where AI is headed, but how to help shape its future!\\n\\n1. Carina Newen et al. (2025). Uncertainty Awareness and Trust in Explainable AI- On Trust Calibration   using Local and Global Explanations. \\n\\n2. Soheil Zibakhsh Shabgahi et al. (2025). ForTIFAI: Fending Off Recursive Training Induced Failure for AI Models. \\n\\n3. Junyang Cai et al. (2025). Global Constraint LLM Agents for Text-to-Model Translation.\", \"score\": 0.67758125, \"raw_content\": null}, {\"url\": \"https://www.theguardian.com/commentisfree/2025/sep/16/ai-wealth-inequality-cultural-division\", \"title\": \"AI will make the rich unfathomably richer. Is this really what we want?\", \"content\": \"Consider OpenAI, the technology giant behind ChatGPT. In a promo video announcing the latest upgrade for their flagship software, its CEO, Sam Altman, bragged: “It can write an entire computer program from scratch.” Three days later, the New York Times reported that computer science grads “are facing some of the highest unemployment rates” among their peers. And it’s not just coders and engineers. AI-powered automation promises to swallow up jobs at the low end of the labor market too, with\", \"score\": 0.59457535, \"raw_content\": null}, {\"url\": \"https://www.cnbc.com/2025/09/16/tech-giants-to-pour-billions-into-uk-ai-heres-what-we-know-so-far.html\", \"title\": \"Microsoft, Nvidia, Google multibillion-dollar investments in AI in UK\", \"content\": \"Nvidia, Google, OpenAI and Salesforce also announced plans for multibillion-dollar AI investments in the country. Combined the new investment dollars total over $40 billion.\\n\\nThe spending commitment comes as President Donald Trump embarks on a state visit to Britain. Trump arrived in the U.K. Tuesday evening and is set to be greeted at Windsor Castle on Wednesday by King Charles and Queen Camilla. [...] Starmer and Trump are expected to sign a new deal Wednesday \\\"to unlock investment and collaboration in AI, Quantum, and Nuclear technologies,\\\" the government said in a statement late Tuesday.\\n\\n## Nvidia, Google, OpenAI, Salesforce\\n\\nNvidia on Tuesday announced £11 billion ($15 billion) of investment in the U.K. with partners Nscale and U.S. infrastructure provider CoreWeave. [...] OpenAI is also making a major commitment to Britain in the form of \\\"Stargate U.K.\\\" — a dedicated U.K. version of its massive Stargate AI joint venture with SoftBank and Oracle.\\n\\nThe Microsoft-backed AI startup is partnering with Nscale and Nvidia on the U.K. project.\\n\\nOpenAI said it would deploy up to 8,000 GPUs to support AI adoption across the U.K. early next year, with the option to expand capacity to approximately 31,000 GPUs over time.\", \"score\": 0.5883458, \"raw_content\": null}, {\"url\": \"https://technicalmiki.com/ai-in-2025-top-10-tools-for-future-technology/\", \"title\": \"AI in 2025: Top 10 Useful Tools the Future of Technology\", \"content\": \"The evolution of artificial intelligence has reached a critical point where accessibility, power, and practical use cases are converging. In 2025, AI is expected to be more robust, ethical, and user-friendly than ever before. Businesses, educators, healthcare professionals, and creatives will all rely on advanced AI solutions to solve complex problems and unlock new opportunities. With ai in 2025, the line between human and machine collaboration is becoming increasingly blurred, making it [...] Synthesia is changing the way videos are produced by allowing users to create professional-quality videos with AI avatars and voiceovers. With ai in 2025, producing instructional, marketing, or entertainment videos will be more affordable and accessible to everyone.\\n\\n## 5. DeepMind’s MedAI: Transforming Healthcare [...] Artificial intelligence is no longer just a buzzword; it is an essential part of our daily lives, shaping industries and redefining how we interact with technology. As we approach 2025, the pace of AI innovation is accelerating, bringing with it a new wave of tools and platforms designed to simplify workflows, enhance productivity, and empower creativity. This blog post will explore the top 10 tools that are set to dominate the landscape of ai in 2025, providing you with insights into the\", \"score\": 0.5553635, \"raw_content\": null}], \"response_time\": 3.39, \"request_id\": \"0596fb98-db79-420b-afc0-5df6342590d1\"}\n"
     ]
    }
   ],
   "source": [
    "for m in response['messages']:\n",
    "  m.pretty_print()"
   ]
  },
  {
   "cell_type": "code",
   "execution_count": 24,
   "id": "01d36c94",
   "metadata": {},
   "outputs": [
    {
     "name": "stdout",
     "output_type": "stream",
     "text": [
      "================================\u001b[1m Human Message \u001b[0m=================================\n",
      "\n",
      "what is 2 multiplied by 4\n",
      "==================================\u001b[1m Ai Message \u001b[0m==================================\n",
      "\n",
      "2 multiplied by 4 equals **8**.\n"
     ]
    }
   ],
   "source": [
    "#fro mulitply invoke\n",
    "response = graph.invoke({\"messages\":\"what is 2 multiplied by 4\"})\n",
    "for m in response['messages']:\n",
    "  m.pretty_print()"
   ]
  },
  {
   "cell_type": "markdown",
   "id": "a0431e6a",
   "metadata": {},
   "source": [
    "### ReAct Agent Architecture \n"
   ]
  },
  {
   "cell_type": "code",
   "execution_count": 25,
   "id": "28d82992",
   "metadata": {},
   "outputs": [
    {
     "data": {
      "image/png": "[encoded data removed]",
      "text/plain": [
       "<IPython.core.display.Image object>"
      ]
     },
     "metadata": {},
     "output_type": "display_data"
    }
   ],
   "source": [
    "## State Graph \n",
    "#creating a toolnode \n",
    "from langgraph.graph import StateGraph,START,END\n",
    "from langgraph.prebuilt import ToolNode\n",
    "from langgraph.prebuilt import tools_condition\n",
    "\n",
    "##node def\n",
    "def tool_calling_llm(state:State):\n",
    "  return {\"messages\":[llm_with_tool.invoke(state[\"messages\"])]}\n",
    "\n",
    "\n",
    "##graph \n",
    "builder = StateGraph(State)\n",
    "builder.add_node(\"tool_calling_llm\",tool_calling_llm)\n",
    "builder.add_node(\"tools\",ToolNode(tools))\n",
    "\n",
    "#add edges \n",
    "builder.add_edge(START,\"tool_calling_llm\")\n",
    "# builder.add_edge(\"tool_calling_llm\",tools_condition)\n",
    "builder.add_conditional_edges(\n",
    "    \"tool_calling_llm\",  # from this node\n",
    "    tools_condition,     # condition function\n",
    ")\n",
    "builder.add_edge(\"tools\",\"tool_calling_llm\")\n",
    "\n",
    "#complining the graph \n",
    "graph = builder.compile()\n",
    "\n",
    "from IPython.display import Image,display\n",
    "display(Image(graph.get_graph().draw_mermaid_png()))"
   ]
  },
  {
   "cell_type": "code",
   "execution_count": 26,
   "id": "4a4c8ffd",
   "metadata": {},
   "outputs": [
    {
     "name": "stdout",
     "output_type": "stream",
     "text": [
      "================================\u001b[1m Human Message \u001b[0m=================================\n",
      "\n",
      "what is 2 multiplied by 4 and then give me latest news\n",
      "==================================\u001b[1m Ai Message \u001b[0m==================================\n",
      "Tool Calls:\n",
      "  tavily_search (fc_a7bf7ce2-77e5-4610-841f-39df4626e395)\n",
      " Call ID: fc_a7bf7ce2-77e5-4610-841f-39df4626e395\n",
      "  Args:\n",
      "    query: latest news\n",
      "    search_depth: advanced\n",
      "    topic: news\n",
      "=================================\u001b[1m Tool Message \u001b[0m=================================\n",
      "Name: tavily_search\n",
      "\n",
      "{\"query\": \"latest news\", \"follow_up_questions\": null, \"answer\": null, \"images\": [], \"results\": [{\"url\": \"https://www.babushahi.com/full-news.php?id=210703\", \"title\": \"MP Satnam Sandhu highlights Punjab’s role in self-reliant India at ARCHSPIRE 2025 - Babushahi News\", \"score\": 0.5393963, \"published_date\": \"Sun, 14 Sep 2025 13:12:00 GMT\", \"content\": \"Sep 14, 2025Top News Stories of September 14 till 8:30 pm (One-Minute Read)  Sep 14, 2025Delhi Sikh Gurudwara Committee condemns racially motivated rape of Sikh woman in UK, demands swift justice  Sep 14, 2025On Day 197, Punjab Police conducts raids at 433 sites, 94 drug smugglers held  Sep 14, 2025Asia Cup: Pakistan win toss, put India to field first in rivarly clash  Sep 14, 2025Punjab launches ‘Special Health Campaign’ in 2,303 flood-hit villages to prevent disease outbreaks  Sep 14, [...] 2025Chandigarh: Rapido felicitates 50 top captains at recognition ceremony  Sep 14, 2025BRC-DRC training empowers 83 teachers at DIET Ferozepur  Sep 14, 2025Punjab Floods: Rs 2 crore compensation disbursed to 50 flood-hit families, cleanliness, health drive launched across 2,300 villages  Sep 14, 2025Earthquake of magnitude 5.8 jolts Assam  Sep 14, 2025Haryana to fully implement National Education Policy-2020 by 2025, announces CM Saini  Sep 14, 2025Aman Arora inaugurates first-of-its-kind bus [...] 6. Delhi Sikh Gurudwara Committee condemns racially motivated rape of Sikh woman in UK, demands swift justice\\n  7. On Day 197, Punjab Police conducts raids at 433 sites, 94 drug smugglers held\\n  8. Chandigarh: Rapido felicitates 50 top captains at recognition ceremony\\n  9. BRC-DRC training empowers 83 teachers at DIET Ferozepur\\n  10. “PM Modi has no idea of Punjab’s pain”: Kuldeep Dhaliwal on farmers’ losses at Ajnala border\", \"raw_content\": null}, {\"url\": \"https://www.cbsnews.com/losangeles/video/park-elm-at-century-plaza-look-at-this/\", \"title\": \"Park Elm at Century Plaza | Look At This! - CBS News\", \"score\": 0.5354634, \"published_date\": \"Thu, 11 Sep 2025 04:56:00 GMT\", \"content\": \"04:25Aug 29, 2025### Legendary designer Bob Mackie discusses his new documentary and his fashion career\\n\\n07:22Aug 29, 2025### Businessman Stephen Cloobeck talks about his bid for CA governor\\n\\n08:52Aug 29, 2025### Stars of the play, “Just Another Day,” talk about the romantic comedy\\n\\n06:24Aug 28, 2025### Labor Day weekend travel essentials with the Go-To Girlfriend\\n\\n05:00Aug 28, 2025### “Fish & Scripts” co-founders talk about creating community for Black creatives [...] 04:43Aug 28, 2025### Master class offered for content creators looking to develop their online brand\\n\\n04:09Aug 27, 2025### This David's Bridal AI platform can plan your wedding for you\\n\\n04:28Aug 27, 2025### The latest in entertainment news with Variety\\n\\n04:38Aug 27, 2025### Actor Allen Leech discusses “Downton Abbey: The Grand Finale”\\n\\n05:38Aug 27, 2025### LA Magazine shows off its \\\"Best of LA\\\" issue with Calamigos Ranch in Malibu [...] 05:07Aug 31, 2025### Culinary stars showcase culinary treats ahead of Manhattan Beach Food & Wine weekend\\n\\n05:53Aug 30, 2025### Grace Chon’s new book honors the beauty of mixed-breed dogs with real DNA results and heartfelt po\\n\\n04:34Aug 30, 2025### Casa Romantica’s “Toast to the Casa” annual gala will be James Bond themed event\\n\\n03:19Aug 29, 2025### Summer events during Labor Day holiday | Weekend Roundup\\n\\n04:16Aug 29, 2025### Movie critic Grae Drake reviews some of latest film and TV releases\", \"raw_content\": null}, {\"url\": \"https://www.allsides.com/news/2025-09-15-0600/world-inside-deadly-game-drone-warfare\", \"title\": \"Inside the Deadly Game of Drone Warfare - AllSides\", \"score\": 0.533714, \"published_date\": \"Mon, 15 Sep 2025 11:30:00 GMT\", \"content\": \"Venezuela's Nicolás Maduro says he's deploying 4.5 million militia members in response to \\\"outlandish threats\\\" by U.S.\\nCBS News (Online)\\n\\nNews\\n\\nThe Existential Meets the Absurd in Latest Ukraine Talks\\nPolitico\\n\\nNews\\n\\nNorwegian police say pro-Russian hackers were likely behind suspected sabotage at a dam\\nAssociated Press\\n\\nNews\\n\\nDrone breaches Romanian airspace during Russian attack on neighboring Ukraine\\nReuters\\n\\nNews [...] Banksy could have identity revealed as police treat latest artwork as criminal damage\\nThe Independent\\n\\nNews\\n\\nMajority in EU’s biggest states believes bloc ‘sold out’ in US tariff deal, poll finds\\nThe Guardian\\n\\nOpinion\\n\\nTrump Thought He Was Leading on Trade. No One Is Following.\\nNew York Times (Opinion)\\n\\nNews\\n\\nBulgaria flip-flops on von der Leyen plane’s GPS glitch\\nPolitico\\n\\nNews\\n\\nPornHub to pay $5M fine for failing to stop child sex abuse videos on websites\\nThe Independent\\n\\nNews [...] PM Orbán Urges EU–Russia Security Deal, Circular EU to Avoid Collapse\\nHungarian Conservative\\n\\nNews\\n\\nSouth Korea minister heads to US amid fallout from ICE Hyundai raid\\nFox Business\\n\\nNews\\n\\nJapan’s Prime Minister Shigeru Ishiba resigns from office\\nJust The News\\n\\nNews\\n\\nTrump: US Has 'Lost' India, Russia to China\\nNewsmax (News)\\n\\nNews\\n\\nEuropean Leaders Discuss Structure of Security Guarantees for Ukraine\\nThe Epoch Times\\n\\nNews\", \"raw_content\": null}, {\"url\": \"https://www.newsghana.com.gh/mining-company-wrecks-cocoa-farms-under-armed-guard-diaso-police-extort-farmers/\", \"title\": \"Mining Company Wrecks Cocoa Farms Under Armed Guard; Diaso Police Extort Farmers - News Ghana\", \"score\": 0.4892356, \"published_date\": \"Wed, 10 Sep 2025 14:21:22 GMT\", \"content\": \"### The latest\\n\\n\\n\\n### Ken Agyapong should face prison over false murder claim against me – Nigel Gaisie\\n\\nNewsSeptember 10, 20250\\n\\nProphet Nigel Gaisie, Founder and Head Pastor of the...\\n\\n\\n\\n### Ghana to host maiden Space Conference 2025 as Africa’s Space economy is projected to skyrocket to $22.6B by 2026\\n\\nNewsSeptember 10, 20250\\n\\nAccra is set to make history as it welcomes...\\n\\n\\n\\n### 2025 Agritech West Africa Expo to attract 4000 business and exhibitors\\n\\nBusinessSeptember 10, 20250\", \"raw_content\": null}, {\"url\": \"https://www.allsides.com/news/2025-09-13-0500/world-epstein-scandal-finally-takes-down-politician\", \"title\": \"The Epstein Scandal Finally Takes Down a Politician - AllSides\", \"score\": 0.44927242, \"published_date\": \"Sat, 13 Sep 2025 12:00:01 GMT\", \"content\": \"The Existential Meets the Absurd in Latest Ukraine Talks\\nPolitico\\n\\nNews\\n\\nNorwegian police say pro-Russian hackers were likely behind suspected sabotage at a dam\\nAssociated Press\\n\\nNews\\n\\nFar-right AfD tops German popularity ranking in bombshell new survey\\nPolitico\\n\\nNews\\n\\nFrom political outsider to a president like no other: Bolsonaro's rise and fall\\nBBC News\\n\\nNews\\n\\nUkrainian refugee girl killed in Germany after being pushed under train\\nThe Kyiv Independent\\n\\nNews [...] Suspect arrested in shooting death of pro-Western Ukrainian politician Andriy Parubiy, Zelenskyy says\\nCBS News (Online)\\n\\nNews\\n\\nIsrael faces new pressure over hospital strikes as Trump chairs Gaza meeting\\nNBC News Digital\\n\\nAnalysis\\n\\nWhat’s Next for Ukraine After All That Diplomacy?\\nNew York Times (News)\\n\\nNews\\n\\nVenezuela's Nicolás Maduro says he's deploying 4.5 million militia members in response to \\\"outlandish threats\\\" by U.S.\\nCBS News (Online)\\n\\nNews [...] Fueled by Anger Over Corruption, Nepal Protesters Topple Prime Minister\\nWall Street Journal (News)\\n\\nAnalysis\\n\\nTrump Says Tariffs Make Us Richer. So, Why Are Most Countries With High Tariffs So Poor?\\nReason\\n\\nNews\\n\\nRussia Reacts to Trump's Venezuela Drug Boat Strike\\nNewsweek\\n\\nNews\\n\\nTrump Scores Big NATO Win\\nNewsweek\\n\\nNews\\n\\nDenmark summons US envoy over suspected influence operations in Greenland\\nReuters\\n\\nNews\", \"raw_content\": null}], \"response_time\": 0.84, \"request_id\": \"40704141-b5c6-436b-81aa-abca3a1f850f\"}\n",
      "==================================\u001b[1m Ai Message \u001b[0m==================================\n",
      "\n",
      "**2 × 4 = 8**\n",
      "\n",
      "### Quick snapshot of the latest news (as of Sept 15 2025)\n",
      "\n",
      "| Date | Headline | Source |\n",
      "|------|----------|--------|\n",
      "| **Sep 15, 2025** | *Inside the Deadly Game of Drone Warfare* – A look at recent drone incidents in Eastern Europe and the broader geopolitical implications. | AllSides |\n",
      "| **Sep 15, 2025** | *Venezuela’s Maduro deploys 4.5 million militia* in response to U.S. “threats.” | CBS News |\n",
      "| **Sep 15, 2025** | *Ukraine talks hit a new phase* – Analysts weigh the latest diplomatic developments. | Politico |\n",
      "| **Sep 15, 2025** | *Norwegian police suspect pro‑Russian hackers behind dam sabotage.* | Associated Press |\n",
      "| **Sep 14, 2025** | *Punjab launches special health campaign* in flood‑hit villages to curb disease outbreaks. | Babushahi News |\n",
      "\n",
      "These stories reflect current geopolitical tensions, public health initiatives, and regional developments. For more in‑depth coverage, you can visit the linked news sites.\n"
     ]
    }
   ],
   "source": [
    "response = graph.invoke({\"messages\":\"what is 2 multiplied by 4 and then give me latest news\"})\n",
    "for m in response['messages']:\n",
    "  m.pretty_print()"
   ]
  },
  {
   "cell_type": "markdown",
   "id": "3bd68476",
   "metadata": {},
   "source": [
    "### ADDING MEMORY in GRAPH\n"
   ]
  },
  {
   "cell_type": "code",
   "execution_count": 29,
   "id": "4bc6ba7a",
   "metadata": {},
   "outputs": [
    {
     "data": {
      "image/png": "[encoded data removed]",
      "text/plain": [
       "<IPython.core.display.Image object>"
      ]
     },
     "metadata": {},
     "output_type": "display_data"
    }
   ],
   "source": [
    "## State Graph \n",
    "#creating a toolnode \n",
    "from langgraph.graph import StateGraph,START,END\n",
    "from langgraph.prebuilt import ToolNode\n",
    "from langgraph.prebuilt import tools_condition\n",
    "from langgraph.checkpoint.memory import MemorySaver  #to remember previous context \n",
    "\n",
    "memory = MemorySaver()\n",
    "\n",
    "##node def\n",
    "def tool_calling_llm(state:State):\n",
    "  return {\"messages\":[llm_with_tool.invoke(state[\"messages\"])]}\n",
    "\n",
    "\n",
    "##graph \n",
    "builder = StateGraph(State)\n",
    "builder.add_node(\"tool_calling_llm\",tool_calling_llm)\n",
    "builder.add_node(\"tools\",ToolNode(tools))\n",
    "\n",
    "#add edges \n",
    "builder.add_edge(START,\"tool_calling_llm\")\n",
    "# builder.add_edge(\"tool_calling_llm\",tools_condition)\n",
    "builder.add_conditional_edges(\n",
    "    \"tool_calling_llm\",  # from this node\n",
    "    tools_condition,     # condition function\n",
    ")\n",
    "builder.add_edge(\"tools\",\"tool_calling_llm\")\n",
    "\n",
    "#complining the graph \n",
    "graph = builder.compile(checkpointer=memory)\n",
    "\n",
    "from IPython.display import Image,display\n",
    "display(Image(graph.get_graph().draw_mermaid_png()))"
   ]
  },
  {
   "cell_type": "code",
   "execution_count": 30,
   "id": "5636c495",
   "metadata": {},
   "outputs": [
    {
     "data": {
      "text/plain": [
       "{'messages': [HumanMessage(content='Hi my name is Chirag', additional_kwargs={}, response_metadata={}, id='08685a90-d341-4321-9406-99b537ba5db0'),\n",
       "  AIMessage(content='Hello Chirag! 👋 How can I help you today?', additional_kwargs={'reasoning_content': 'The user just said \"Hi my name is Chirag\". Probably greeting. We should respond warmly. No search needed.'}, response_metadata={'token_usage': {'completion_tokens': 47, 'prompt_tokens': 1391, 'total_tokens': 1438, 'completion_time': 0.043615438, 'prompt_time': 0.090656184, 'queue_time': 0.050647585, 'total_time': 0.134271622}, 'model_name': 'openai/gpt-oss-20b', 'system_fingerprint': 'fp_a5ac2a5d7b', 'service_tier': 'on_demand', 'finish_reason': 'stop', 'logprobs': None}, id='run--1a3f45e1-3cb4-457f-ad58-7ffb9ea2f865-0', usage_metadata={'input_tokens': 1391, 'output_tokens': 47, 'total_tokens': 1438})]}"
      ]
     },
     "execution_count": 30,
     "metadata": {},
     "output_type": "execute_result"
    }
   ],
   "source": [
    "config = {\"configurable\":{\"thread_id\":\"1\"}}\n",
    "\n",
    "response = graph.invoke({\"messages\":\"Hi my name is Chirag\"},config=config)\n",
    "\n",
    "response"
   ]
  },
  {
   "cell_type": "code",
   "execution_count": 31,
   "id": "7f38318e",
   "metadata": {},
   "outputs": [
    {
     "name": "stdout",
     "output_type": "stream",
     "text": [
      "You’re Chirag.\n"
     ]
    }
   ],
   "source": [
    "response = graph.invoke({\"messages\":\"What is my name\"},config=config)\n",
    "print(response['messages'][-1].content)\n"
   ]
  }
 ],
 "metadata": {
  "kernelspec": {
   "display_name": "Ortho_Python_Practice",
   "language": "python",
   "name": "python3"
  },
  "language_info": {
   "codemirror_mode": {
    "name": "ipython",
    "version": 3
   },
   "file_extension": ".py",
   "mimetype": "text/x-python",
   "name": "python",
   "nbconvert_exporter": "python",
   "pygments_lexer": "ipython3",
   "version": "3.12.7"
  }
 },
 "nbformat": 4,
 "nbformat_minor": 5
}
