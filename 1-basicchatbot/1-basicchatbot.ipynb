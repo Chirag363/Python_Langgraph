{
 "cells": [
  {
   "cell_type": "code",
   "execution_count": 71,
   "id": "e177a9a8",
   "metadata": {},
   "outputs": [],
   "source": [
    "from typing import Annotated  #hypotetical metadat type \n",
    "from typing_extensions import TypedDict\n",
    "from langgraph.graph import StateGraph,START,END\n",
    "from langgraph.graph.message import add_messages #it reducer-> adds/appends messages to the list instead of replacing them\n"
   ]
  },
  {
   "cell_type": "code",
   "execution_count": 72,
   "id": "0051248d",
   "metadata": {},
   "outputs": [],
   "source": [
    "class State(TypedDict):         #typeddi used for taking value in dictory format\n",
    "     messages:Annotated[list,add_messages]\n"
   ]
  },
  {
   "cell_type": "code",
   "execution_count": 73,
   "id": "6866cf98",
   "metadata": {},
   "outputs": [
    {
     "data": {
      "text/plain": [
       "<langgraph.graph.state.StateGraph at 0x1c5784e39e0>"
      ]
     },
     "execution_count": 73,
     "metadata": {},
     "output_type": "execute_result"
    }
   ],
   "source": [
    "graph_builder"
   ]
  },
  {
   "cell_type": "code",
   "execution_count": 74,
   "id": "e1ef10f6",
   "metadata": {},
   "outputs": [
    {
     "data": {
      "text/plain": [
       "True"
      ]
     },
     "execution_count": 74,
     "metadata": {},
     "output_type": "execute_result"
    }
   ],
   "source": [
    "import os \n",
    "from dotenv import load_dotenv\n",
    "load_dotenv()"
   ]
  },
  {
   "cell_type": "code",
   "execution_count": 75,
   "id": "3e715358",
   "metadata": {},
   "outputs": [],
   "source": [
    "from langchain.chat_models import init_chat_model\n",
    "from langchain_groq import ChatGroq\n",
    "llm = ChatGroq(model=\"openai/gpt-oss-20b\")\n"
   ]
  },
  {
   "cell_type": "code",
   "execution_count": 76,
   "id": "d41a3d37",
   "metadata": {},
   "outputs": [
    {
     "data": {
      "text/plain": [
       "ChatGroq(client=<groq.resources.chat.completions.Completions object at 0x000001C57B322900>, async_client=<groq.resources.chat.completions.AsyncCompletions object at 0x000001C57B325E50>, model_name='openai/gpt-oss-20b', model_kwargs={}, groq_api_key=SecretStr('**********'))"
      ]
     },
     "execution_count": 76,
     "metadata": {},
     "output_type": "execute_result"
    }
   ],
   "source": [
    "llm"
   ]
  },
  {
   "cell_type": "code",
   "execution_count": 77,
   "id": "7d24e99b",
   "metadata": {},
   "outputs": [],
   "source": [
    "#Node funcitonaluty \n",
    "def chatbot(state:State):\n",
    "  return {\"messages\":[llm.invoke(state[\"messages\"])]}  #the msg variblae is same as we declar in the class State "
   ]
  },
  {
   "cell_type": "code",
   "execution_count": 78,
   "id": "b2b4ce89",
   "metadata": {},
   "outputs": [],
   "source": [
    "graph_builder = StateGraph(State)\n",
    "graph_builder.add_node(\"llmchatbot\",chatbot)\n",
    "\n",
    "graph_builder.add_edge(START,\"llmchatbot\")\n",
    "graph_builder.add_edge(\"llmchatbot\",END)\n",
    "\n",
    "#compiling thr graph \n",
    "graph = graph_builder.compile()"
   ]
  },
  {
   "cell_type": "code",
   "execution_count": 79,
   "id": "d0d8965a",
   "metadata": {},
   "outputs": [
    {
     "data": {
      "image/png": "[encoded data removed]",
      "text/plain": [
       "<IPython.core.display.Image object>"
      ]
     },
     "metadata": {},
     "output_type": "display_data"
    }
   ],
   "source": [
    "#vsiulaization graph \n",
    "from IPython.display import Image,display\n",
    "\n",
    "try:\n",
    "  display(Image(graph.get_graph().draw_mermaid_png()))\n",
    "except Exception:\n",
    "  pass  "
   ]
  },
  {
   "cell_type": "code",
   "execution_count": 80,
   "id": "5620b841",
   "metadata": {},
   "outputs": [],
   "source": [
    "response = graph.invoke({\"messages\":\"hi\"})"
   ]
  },
  {
   "cell_type": "code",
   "execution_count": 81,
   "id": "bc2d822e",
   "metadata": {},
   "outputs": [
    {
     "data": {
      "text/plain": [
       "'Hello! 👋 How can I assist you today?'"
      ]
     },
     "execution_count": 81,
     "metadata": {},
     "output_type": "execute_result"
    }
   ],
   "source": [
    "response[\"messages\"][-1].content  #reading the data"
   ]
  },
  {
   "cell_type": "code",
   "execution_count": 82,
   "id": "5e705987",
   "metadata": {},
   "outputs": [
    {
     "name": "stdout",
     "output_type": "stream",
     "text": [
      "Hello! I'm doing great—thanks for asking. How can I help you today?\n"
     ]
    }
   ],
   "source": [
    "for event in graph.stream({\"messages\":\"Hi How are you?\"}): #Streaming \n",
    "  for value in event.values():\n",
    "    print(value[\"messages\"][-1].content)"
   ]
  },
  {
   "cell_type": "markdown",
   "id": "a41b72ad",
   "metadata": {},
   "source": [
    "### How to make use of the tools in Agent\n"
   ]
  },
  {
   "cell_type": "code",
   "execution_count": null,
   "id": "eba8c190",
   "metadata": {},
   "outputs": [
    {
     "data": {
      "text/plain": [
       "{'query': 'What is langgraph ?',\n",
       " 'follow_up_questions': None,\n",
       " 'answer': None,\n",
       " 'images': [],\n",
       " 'results': [{'url': 'https://www.geeksforgeeks.org/machine-learning/what-is-langgraph/',\n",
       "   'title': 'What is LangGraph? - GeeksforGeeks',\n",
       "   'content': 'LangGraph is an open-source framework built by LangChain that streamlines the creation and management of AI agent workflows.',\n",
       "   'score': 0.9470345,\n",
       "   'raw_content': None},\n",
       "  {'url': 'https://www.analyticsvidhya.com/blog/2024/07/langgraph-revolutionizing-ai-agent/',\n",
       "   'title': 'What is LangGraph? - Analytics Vidhya',\n",
       "   'content': '* LangGraph is a library built on top of Langchain that is designed to facilitate the creation of cyclic graphs for large language model (LLM) – based AI agents. * Langgraph introduces a chat agent executor that represents the agent state as a list of messages, which is particularly useful for newer, chat-based models. The agent executor class in the Langchain framework was the main tool for building and executing AI agents before LangGraph. Large Language Models (LLMs) are the foundation for designing sophisticated AI agents, and LangGraph, built on top of Langchain, is intended to make the process of creating cyclic graphs easier. Ans. LangGraph addresses the limitations of previous AI agent development frameworks by providing more flexibility, better state management, and support for cyclic execution and multi-agent systems.',\n",
       "   'score': 0.933534,\n",
       "   'raw_content': None},\n",
       "  {'url': 'https://www.langchain.com/langgraph',\n",
       "   'title': 'LangGraph - LangChain',\n",
       "   'content': 'LangGraph is a stateful, orchestration framework that brings added control to agent workflows. LangGraph Platform is a service for deploying and scaling',\n",
       "   'score': 0.9317675,\n",
       "   'raw_content': None},\n",
       "  {'url': 'https://www.ibm.com/think/topics/langgraph',\n",
       "   'title': 'What is LangGraph? - IBM',\n",
       "   'content': 'LangGraph, created by LangChain, is an open source AI agent framework designed to build, deploy and manage complex generative AI agent workflows.',\n",
       "   'score': 0.9242583,\n",
       "   'raw_content': None},\n",
       "  {'url': 'https://www.datacamp.com/tutorial/langgraph-tutorial',\n",
       "   'title': 'LangGraph Tutorial: What Is LangGraph and How to Use It?',\n",
       "   'content': 'LangGraph provides a framework for defining, coordinating, and executing multiple LLM agents (or chains) in a structured manner.',\n",
       "   'score': 0.9121316,\n",
       "   'raw_content': None}],\n",
       " 'response_time': 0.84,\n",
       " 'request_id': '7d968fb8-698c-4281-9ce2-6848f594766f'}"
      ]
     },
     "execution_count": 8,
     "metadata": {},
     "output_type": "execute_result"
    }
   ],
   "source": [
    "from langchain_tavily import TavilySearch\n",
    "\n",
    "tool = TavilySearch(max_result=2)\n",
    "tool.invoke(\"What is langgraph ?\")"
   ]
  },
  {
   "cell_type": "code",
   "execution_count": 121,
   "id": "59258699",
   "metadata": {},
   "outputs": [],
   "source": [
    "# defining the DOC STRING\n",
    "def multiply(a:int,b:int)->int:\n",
    "  \"\"\"Multiply a and b \n",
    "\n",
    "  Args:\n",
    "  a (int): first int\n",
    "  b (int): second int \n",
    "\n",
    "  Returns:\n",
    "  int:output int\n",
    "\n",
    "\"\"\"\n",
    "  return a*b\n"
   ]
  },
  {
   "cell_type": "code",
   "execution_count": 122,
   "id": "659f749a",
   "metadata": {},
   "outputs": [],
   "source": [
    "tools = [tool,multiply]  #we are using 2 tools"
   ]
  },
  {
   "cell_type": "code",
   "execution_count": 123,
   "id": "33bead73",
   "metadata": {},
   "outputs": [],
   "source": [
    "llm_with_tool=llm.bind_tools(tools)"
   ]
  },
  {
   "cell_type": "code",
   "execution_count": 124,
   "id": "33aca2c7",
   "metadata": {},
   "outputs": [
    {
     "data": {
      "text/plain": [
       "RunnableBinding(bound=ChatGroq(client=<groq.resources.chat.completions.Completions object at 0x000001C57B322900>, async_client=<groq.resources.chat.completions.AsyncCompletions object at 0x000001C57B325E50>, model_name='openai/gpt-oss-20b', model_kwargs={}, groq_api_key=SecretStr('**********')), kwargs={'tools': [{'type': 'function', 'function': {'name': 'tavily_search', 'description': 'A search engine optimized for comprehensive, accurate, and trusted results. Useful for when you need to answer questions about current events. It not only retrieves URLs and snippets, but offers advanced search depths, domain management, time range filters, and image search, this tool delivers real-time, accurate, and citation-backed results.Input should be a search query.', 'parameters': {'properties': {'query': {'description': 'Search query to look up', 'type': 'string'}, 'include_domains': {'anyOf': [{'items': {'type': 'string'}, 'type': 'array'}, {'type': 'null'}], 'default': [], 'description': 'A list of domains to restrict search results to.\\n\\n        Use this parameter when:\\n        1. The user explicitly requests information from specific websites (e.g., \"Find climate data from nasa.gov\")\\n        2. The user mentions an organization or company without specifying the domain (e.g., \"Find information about iPhones from Apple\")\\n\\n        In both cases, you should determine the appropriate domains (e.g., [\"nasa.gov\"] or [\"apple.com\"]) and set this parameter.\\n\\n        Results will ONLY come from the specified domains - no other sources will be included.\\n        Default is None (no domain restriction).\\n        '}, 'exclude_domains': {'anyOf': [{'items': {'type': 'string'}, 'type': 'array'}, {'type': 'null'}], 'default': [], 'description': 'A list of domains to exclude from search results.\\n\\n        Use this parameter when:\\n        1. The user explicitly requests to avoid certain websites (e.g., \"Find information about climate change but not from twitter.com\")\\n        2. The user mentions not wanting results from specific organizations without naming the domain (e.g., \"Find phone reviews but nothing from Apple\")\\n\\n        In both cases, you should determine the appropriate domains to exclude (e.g., [\"twitter.com\"] or [\"apple.com\"]) and set this parameter.\\n\\n        Results will filter out all content from the specified domains.\\n        Default is None (no domain exclusion).\\n        '}, 'search_depth': {'anyOf': [{'enum': ['basic', 'advanced'], 'type': 'string'}, {'type': 'null'}], 'default': 'basic', 'description': 'Controls search thoroughness and result comprehensiveness.\\n    \\n        Use \"basic\" for simple queries requiring quick, straightforward answers.\\n        \\n        Use \"advanced\" (default) for complex queries, specialized topics, \\n        rare information, or when in-depth analysis is needed.\\n        '}, 'include_images': {'anyOf': [{'type': 'boolean'}, {'type': 'null'}], 'default': False, 'description': 'Determines if the search returns relevant images along with text results.\\n   \\n        Set to True when the user explicitly requests visuals or when images would \\n        significantly enhance understanding (e.g., \"Show me what black holes look like,\" \\n        \"Find pictures of Renaissance art\").\\n        \\n        Leave as False (default) for most informational queries where text is sufficient.\\n        '}, 'time_range': {'anyOf': [{'enum': ['day', 'week', 'month', 'year'], 'type': 'string'}, {'type': 'null'}], 'default': None, 'description': 'Limits results to content published within a specific timeframe.\\n        \\n        ONLY set this when the user explicitly mentions a time period \\n        (e.g., \"latest AI news,\" \"articles from last week\").\\n        \\n        For less popular or niche topics, use broader time ranges \\n        (\"month\" or \"year\") to ensure sufficient relevant results.\\n   \\n        Options: \"day\" (24h), \"week\" (7d), \"month\" (30d), \"year\" (365d).\\n        \\n        Default is None.\\n        '}, 'topic': {'anyOf': [{'enum': ['general', 'news', 'finance'], 'type': 'string'}, {'type': 'null'}], 'default': 'general', 'description': 'Specifies search category for optimized results.\\n   \\n        Use \"general\" (default) for most queries, INCLUDING those with terms like \\n        \"latest,\" \"newest,\" or \"recent\" when referring to general information.\\n\\n        Use \"finance\" for markets, investments, economic data, or financial news.\\n\\n        Use \"news\" ONLY for politics, sports, or major current events covered by \\n        mainstream media - NOT simply because a query asks for \"new\" information.\\n        '}, 'include_favicon': {'anyOf': [{'type': 'boolean'}, {'type': 'null'}], 'default': False, 'description': \"Determines whether to include favicon URLs for each search result.\\n        \\n        When enabled, each search result will include the website's favicon URL,\\n        which can be useful for:\\n        - Building rich UI interfaces with visual website indicators\\n        - Providing visual cues about the source's credibility or brand\\n        - Creating bookmark-like displays with recognizable site icons\\n        \\n        Set to True when creating user interfaces that benefit from visual branding\\n        or when favicon information enhances the user experience.\\n        \\n        Default is False to minimize response size and API usage.\\n        \"}, 'start_date': {'anyOf': [{'type': 'string'}, {'type': 'null'}], 'default': None, 'description': 'Filters search results to include only content published on or after this date.\\n        \\n        Use this parameter when you need to:\\n        - Find recent developments or updates on a topic\\n        - Exclude outdated information from search results\\n        - Focus on content within a specific timeframe\\n        - Combine with end_date to create a custom date range\\n        \\n        Format must be YYYY-MM-DD (e.g., \"2024-01-15\" for January 15, 2024).\\n        \\n        Examples:\\n        - \"2024-01-01\" - Results from January 1, 2024 onwards\\n        - \"2023-12-25\" - Results from December 25, 2023 onwards\\n        \\n        When combined with end_date, creates a precise date range filter.\\n        \\n        Default is None (no start date restriction).\\n        '}, 'end_date': {'anyOf': [{'type': 'string'}, {'type': 'null'}], 'default': None, 'description': 'Filters search results to include only content published on or before this date.\\n        \\n        Use this parameter when you need to:\\n        - Exclude content published after a certain date\\n        - Study historical information or past events\\n        - Research how topics were covered during specific time periods\\n        - Combine with start_date to create a custom date range\\n        \\n        Format must be YYYY-MM-DD (e.g., \"2024-03-31\" for March 31, 2024).\\n        \\n        Examples:\\n        - \"2024-03-31\" - Results up to and including March 31, 2024\\n        - \"2023-12-31\" - Results up to and including December 31, 2023\\n        \\n        When combined with start_date, creates a precise date range filter.\\n        For example: start_date=\"2024-01-01\", end_date=\"2024-03-31\" \\n        returns results from Q1 2024 only.\\n        \\n        Default is None (no end date restriction).\\n        '}}, 'required': ['query'], 'type': 'object'}}}, {'type': 'function', 'function': {'name': 'multiply', 'description': 'Multiply a and b ', 'parameters': {'properties': {'a': {'description': 'first int', 'type': 'integer'}, 'b': {'description': 'second int', 'type': 'integer'}}, 'required': ['a', 'b'], 'type': 'object'}}}]}, config={}, config_factories=[])"
      ]
     },
     "execution_count": 124,
     "metadata": {},
     "output_type": "execute_result"
    }
   ],
   "source": [
    "llm_with_tool"
   ]
  },
  {
   "cell_type": "code",
   "execution_count": 101,
   "id": "9a9b77ca",
   "metadata": {},
   "outputs": [
    {
     "data": {
      "image/png": "[encoded data removed]",
      "text/plain": [
       "<IPython.core.display.Image object>"
      ]
     },
     "metadata": {},
     "output_type": "display_data"
    }
   ],
   "source": [
    "## State Graph \n",
    "#creating a toolnode \n",
    "from langgraph.graph import StateGraph,START,END\n",
    "from langgraph.prebuilt import ToolNode\n",
    "from langgraph.prebuilt import tools_condition\n",
    "\n",
    "##node def\n",
    "def tool_calling_llm(state:State):\n",
    "  return {\"messages\":[llm_with_tool.invoke(state[\"messages\"])]}\n",
    "\n",
    "\n",
    "##graph \n",
    "builder = StateGraph(State)\n",
    "builder.add_node(\"tool_calling_llm\",tool_calling_llm)\n",
    "builder.add_node(\"tools\",ToolNode(tools))\n",
    "\n",
    "#add edges \n",
    "builder.add_edge(START,\"tool_calling_llm\")\n",
    "# builder.add_edge(\"tool_calling_llm\",tools_condition)\n",
    "builder.add_conditional_edges(\n",
    "    \"tool_calling_llm\",  # from this node\n",
    "    tools_condition,     # condition function\n",
    ")\n",
    "builder.add_edge(\"tools\", END)\n",
    "\n",
    "#complining the graph \n",
    "graph = builder.compile()\n",
    "\n",
    "from IPython.display import Image,display\n",
    "display(Image(graph.get_graph().draw_mermaid_png()))\n"
   ]
  },
  {
   "cell_type": "code",
   "execution_count": 89,
   "id": "946a40e3",
   "metadata": {},
   "outputs": [],
   "source": [
    "response = graph.invoke({\"messages\":\"What is the recent ai news\"})"
   ]
  },
  {
   "cell_type": "code",
   "execution_count": 90,
   "id": "e9c72670",
   "metadata": {},
   "outputs": [
    {
     "data": {
      "text/plain": [
       "'{\"query\": \"AI news\", \"follow_up_questions\": null, \"answer\": null, \"images\": [], \"results\": [{\"url\": \"https://punchng.com/leveraging-ai-to-solve-everyday-challenges/?utm_source=auto-read-also&utm_medium=web\", \"title\": \"Leveraging AI to solve everyday challenges - Punch Newspapers\", \"score\": 0.6194488, \"published_date\": \"Tue, 16 Sep 2025 01:15:29 GMT\", \"content\": \"AI also powers personalised banking solutions for everyday Nigerians. Mobile banking apps now use AI to analyse individual spending habits, provide budgeting tips, suggest savings plans, and even automate investment strategies. These tools empower users to make smarter financial decisions, manage money more effectively, and build wealth over time.\\\\n\\\\nRelated News [...] Beyond individual farmers, AI is transforming agribusiness operations across the country. Supply chain management, traditionally plagued by inefficiencies, is now being streamlined through AI systems that track the movement of crops from farms to markets. These systems ensure better inventory management, reduce post-harvest wastage, and improve the availability of fresh produce for consumers. [...] Hospitals and clinics are increasingly integrating AI into their operational systems to improve patient care. From managing appointments and streamlining administrative workflows to predicting disease outbreaks through epidemiological data analysis, AI enhances both efficiency and service delivery. Moreover, AI-assisted drug discovery and personalised medicine are enabling targeted treatments tailored to individual patients, increasing effectiveness while reducing side effects.\", \"raw_content\": null}, {\"url\": \"https://gizmodo.com/study-claims-over-half-of-tech-firms-are-considering-restructuring-thanks-to-ai-2000659089\", \"title\": \"Study Claims Over Half of Tech Firms Are Considering ‘Restructuring,’ Thanks to AI - Gizmodo\", \"score\": 0.5925965, \"published_date\": \"Tue, 16 Sep 2025 13:45:05 GMT\", \"content\": \"## UAE Lab Releases Open-Source Model to Rival China’s DeepSeek\\\\n\\\\n  The United Arab Emirates hopes to compete with the U.S. and China in the global AI race.\\\\n\\\\n  By\\\\n  Ece Yildirim\\\\n Tech NewsArtificial Intelligence\\\\n\\\\n  ## How Republicans Plan to Use AI for 2026 (Even If It’s Too Woke)\\\\n\\\\n  Did your candidate take a photo with a tattooed American? Just remove the tat with AI.\\\\n\\\\n  By\\\\n  Matt Novak\\\\n Tech NewsArtificial Intelligence [...] AI hype is driving trillion-dollar gains for tech giants. Is there a bubble?\\\\n\\\\n  By\\\\n  Ece Yildirim\\\\n Tech NewsArtificial Intelligence\\\\n\\\\n  ## Tucker Carlson and Sam Altman Get Dark\\\\n\\\\n  Sam Altman\\'s appearance on Tucker Carlson prompted Musk to weigh in on a whistleblower who died in Nov. 2024.\\\\n\\\\n  By\\\\n  Matt Novak\\\\n Tech NewsArtificial Intelligence\\\\n\\\\n  ## Google Is Telling People DOGE Never Existed\\\\n\\\\n  Wouldn\\'t that be nice, though?\\\\n\\\\n  By\\\\n  AJ Dellinger\\\\n Tech NewsArtificial Intelligence [...] Now, a new report from a firm that works with tech companies claims that a majority of its clients say they are considering big changes to accommodate greater integration of AI.\\\\n\\\\nThe report comes from Source, a consultant that provides services to media, tech, and telecom firms. The company found that some 55 percent of its clients expect to invest in organizational restructuring during the next 18 months. The report seems to attribute these changes to AI:\", \"raw_content\": null}, {\"url\": \"https://www.zdnet.com/article/harvards-new-free-ai-tool-could-help-treat-parkinsons-alzheimers-and-even-cancer/\", \"title\": \"Harvard\\'s new free AI tool could help treat Parkinson\\'s, Alzheimer\\'s, and even cancer - ZDNet\", \"score\": 0.54985875, \"published_date\": \"Mon, 15 Sep 2025 19:04:00 GMT\", \"content\": \"Harvard researchers designed a new AI model, PDGrapher.\\\\n It can identify treatments to restore diseased cells to health.\\\\n This could have larger impacts on drug discovery.\\\\n\\\\nWhile AI\\'s most common use cases involve helping people with their everyday tasks, it can also go far beyond that, even helping make medical breakthroughs.\\\\n\\\\nAlso: Can AI outdiagnose doctors? Microsoft\\'s tool is 4 times better for complex cases [...] Though still new, AI has made several recent strides for medical use cases. Last year, for example, AI models\\' tendency to hallucinate actually helped Stanford researchers find new drug compounds at an exponentially faster rate than they could have with basic computing alone. At the same time, however, studies show AI chatbot users are perhaps over-reliant on AI tools for medical advice, which can be factually incorrect or otherwise unreliable, and does not replace information from a medical [...] Last week, Harvard Medical School published a study on a new AI model called PDGrapher. According to Harvard, the model can analyze the connections between genes, proteins, and signaling pathways inside cells to identify the best combination of therapies that would effectively restore healthy cell behavior. This could enable new treatments for conditions that have previously been unable to be found via traditional methods.\\\\n\\\\n## The findings\", \"raw_content\": null}, {\"url\": \"https://www.csoonline.com/article/4054301/cisos-grapple-with-the-realities-of-applying-ai-to-security-functions.html\", \"title\": \"CISOs grapple with the realities of applying AI to security functions - csoonline.com\", \"score\": 0.54564947, \"published_date\": \"Tue, 16 Sep 2025 07:02:45 GMT\", \"content\": \"### ReVault flaws let attackers bypass Windows login or place malware implants on Dell laptops\\\\n\\\\n  Aug 6, 2025 5 mins\\\\n\\\\n## Show me more\\\\n\\\\nfeature\\\\n\\\\n### CISOs grapple with the realities of applying AI to security functions\\\\n\\\\nBy John Leyden\\\\n\\\\nSep 16, 20256 mins\\\\n\\\\nArtificial IntelligenceSecurity Operations CenterSecurity Practices\\\\n\\\\nnews\\\\n\\\\n### Delmia Apriso customers face patching emergency after CISA warns of exploit\\\\n\\\\nBy John E. Dunn\\\\n\\\\nSep 15, 20254 mins\\\\n\\\\nManufacturing IndustryVulnerabilities [...] ### Pressure on CISOs to stay silent about security incidents growing\\\\n\\\\n  Sep 4, 2025 8 mins\\\\n news analysis\\\\n\\\\n  ### Only 49% of companies to increase cyber budget after a breach\\\\n\\\\n  Aug 27, 2025 5 mins\\\\n feature\\\\n\\\\n  ### What is the cost of a data breach?\\\\n\\\\n  Aug 22, 2025 13 mins\\\\n feature\\\\n\\\\n  ### Enterprise passwords becoming even easier to steal and abuse\\\\n\\\\n  Aug 21, 2025 7 mins\\\\n news analysis\\\\n\\\\n  ### 5 key takeaways from Black Hat USA 2025\\\\n\\\\n  Aug 12, 2025 5 mins\\\\n news [...] Recent research, cited by Rana, showed that AI systems can correctly flag 89% of malicious files as malware. However, under the toughest test conditions a prototype autonomous AI-based system caught only 26% of all actual malware.\\\\n\\\\nThese figures come from experiments by Microsoft Research on Project Ire, an AI-based malware classification prototype, in a demanding test on 4,000 files not classified by automated systems and slated for manual review.\", \"raw_content\": null}, {\"url\": \"https://www.cio.com/article/4057061/answering-the-question-of-which-ai-tools-deliver-measurable-value.html\", \"title\": \"Answering the question of which AI tools deliver measurable value - cio.com\", \"score\": 0.5078369, \"published_date\": \"Tue, 16 Sep 2025 08:46:44 GMT\", \"content\": \"By Estelle Quek\\\\n\\\\nSep 10, 202531 mins\\\\n\\\\nArtificial IntelligenceDigital TransformationInsurance Industry\\\\n\\\\npodcast\\\\n\\\\n### First Person Meets... Greg Finnigan: Being your authentic self\\\\n\\\\nSep 8, 202530 mins\\\\n\\\\nCareersCloud ManagementSecurity Hardware\\\\n\\\\nvideo\\\\n\\\\n### Why AI upskilling fails, and how tech leaders are fixing it | What IT Leaders Want, Ep. 11\\\\n\\\\nSep 12, 202528 mins\\\\n\\\\nCareersGenerative AI\\\\n\\\\nvideo\\\\n\\\\n### IBM, AWS unite to scale trustworthy AI with seamless governance integration\\\\n\\\\nSep 11, 202513 mins [...] But given how rapidly AI is reshaping fundamental business infrastructure, Disrupt is also essential viewing. The pace of change has accelerated beyond anything we’ve seen before; it’s going to make three days at Moscone Center feel less like industry theater and more like critical intelligence gathering for anyone trying to navigate the future of enterprise technology.\\\\n\\\\nFind out more about TechCrunch Disrupt.\\\\n\\\\nSUBSCRIBE TO OUR NEWSLETTER\\\\n\\\\n### From our editors straight to your inbox [...] ### Built for speed, ready to scale: Why your next PC should be a Windows 11 Pro with Intel VPro® or Copilot+ powered by Intel® Core™ Ultra\\\\n\\\\nSep 16, 20254 mins\\\\n\\\\nBusiness OperationsDigital Transformation\\\\n\\\\npodcast\\\\n\\\\n### Why AI upskilling fails, and how tech leaders are fixing it | What IT Leaders Want, Ep. 11\\\\n\\\\nSep 12, 202528 mins\\\\n\\\\nCareersGenerative AI\\\\n\\\\npodcast\\\\n\\\\n### CIO ASEAN Leadership Live with McKinsey: Transformative role of AI and GenAI in the insurance sector in Southeast Asia.\", \"raw_content\": null}], \"response_time\": 1.1, \"request_id\": \"7f2f439f-abbd-4a72-b785-c621d87a85a3\"}'"
      ]
     },
     "execution_count": 90,
     "metadata": {},
     "output_type": "execute_result"
    }
   ],
   "source": [
    "response['messages'][-1].content"
   ]
  },
  {
   "cell_type": "code",
   "execution_count": 91,
   "id": "0cdb0610",
   "metadata": {},
   "outputs": [
    {
     "name": "stdout",
     "output_type": "stream",
     "text": [
      "================================\u001b[1m Human Message \u001b[0m=================================\n",
      "\n",
      "What is the recent ai news\n",
      "==================================\u001b[1m Ai Message \u001b[0m==================================\n",
      "Tool Calls:\n",
      "  tavily_search (fc_5a5526d2-8631-4c0b-9e61-41d0be0f6c0a)\n",
      " Call ID: fc_5a5526d2-8631-4c0b-9e61-41d0be0f6c0a\n",
      "  Args:\n",
      "    query: AI news\n",
      "    search_depth: advanced\n",
      "    time_range: day\n",
      "    topic: news\n",
      "=================================\u001b[1m Tool Message \u001b[0m=================================\n",
      "Name: tavily_search\n",
      "\n",
      "{\"query\": \"AI news\", \"follow_up_questions\": null, \"answer\": null, \"images\": [], \"results\": [{\"url\": \"https://punchng.com/leveraging-ai-to-solve-everyday-challenges/?utm_source=auto-read-also&utm_medium=web\", \"title\": \"Leveraging AI to solve everyday challenges - Punch Newspapers\", \"score\": 0.6194488, \"published_date\": \"Tue, 16 Sep 2025 01:15:29 GMT\", \"content\": \"AI also powers personalised banking solutions for everyday Nigerians. Mobile banking apps now use AI to analyse individual spending habits, provide budgeting tips, suggest savings plans, and even automate investment strategies. These tools empower users to make smarter financial decisions, manage money more effectively, and build wealth over time.\\n\\nRelated News [...] Beyond individual farmers, AI is transforming agribusiness operations across the country. Supply chain management, traditionally plagued by inefficiencies, is now being streamlined through AI systems that track the movement of crops from farms to markets. These systems ensure better inventory management, reduce post-harvest wastage, and improve the availability of fresh produce for consumers. [...] Hospitals and clinics are increasingly integrating AI into their operational systems to improve patient care. From managing appointments and streamlining administrative workflows to predicting disease outbreaks through epidemiological data analysis, AI enhances both efficiency and service delivery. Moreover, AI-assisted drug discovery and personalised medicine are enabling targeted treatments tailored to individual patients, increasing effectiveness while reducing side effects.\", \"raw_content\": null}, {\"url\": \"https://gizmodo.com/study-claims-over-half-of-tech-firms-are-considering-restructuring-thanks-to-ai-2000659089\", \"title\": \"Study Claims Over Half of Tech Firms Are Considering ‘Restructuring,’ Thanks to AI - Gizmodo\", \"score\": 0.5925965, \"published_date\": \"Tue, 16 Sep 2025 13:45:05 GMT\", \"content\": \"## UAE Lab Releases Open-Source Model to Rival China’s DeepSeek\\n\\n  The United Arab Emirates hopes to compete with the U.S. and China in the global AI race.\\n\\n  By\\n  Ece Yildirim\\n Tech NewsArtificial Intelligence\\n\\n  ## How Republicans Plan to Use AI for 2026 (Even If It’s Too Woke)\\n\\n  Did your candidate take a photo with a tattooed American? Just remove the tat with AI.\\n\\n  By\\n  Matt Novak\\n Tech NewsArtificial Intelligence [...] AI hype is driving trillion-dollar gains for tech giants. Is there a bubble?\\n\\n  By\\n  Ece Yildirim\\n Tech NewsArtificial Intelligence\\n\\n  ## Tucker Carlson and Sam Altman Get Dark\\n\\n  Sam Altman's appearance on Tucker Carlson prompted Musk to weigh in on a whistleblower who died in Nov. 2024.\\n\\n  By\\n  Matt Novak\\n Tech NewsArtificial Intelligence\\n\\n  ## Google Is Telling People DOGE Never Existed\\n\\n  Wouldn't that be nice, though?\\n\\n  By\\n  AJ Dellinger\\n Tech NewsArtificial Intelligence [...] Now, a new report from a firm that works with tech companies claims that a majority of its clients say they are considering big changes to accommodate greater integration of AI.\\n\\nThe report comes from Source, a consultant that provides services to media, tech, and telecom firms. The company found that some 55 percent of its clients expect to invest in organizational restructuring during the next 18 months. The report seems to attribute these changes to AI:\", \"raw_content\": null}, {\"url\": \"https://www.zdnet.com/article/harvards-new-free-ai-tool-could-help-treat-parkinsons-alzheimers-and-even-cancer/\", \"title\": \"Harvard's new free AI tool could help treat Parkinson's, Alzheimer's, and even cancer - ZDNet\", \"score\": 0.54985875, \"published_date\": \"Mon, 15 Sep 2025 19:04:00 GMT\", \"content\": \"Harvard researchers designed a new AI model, PDGrapher.\\n It can identify treatments to restore diseased cells to health.\\n This could have larger impacts on drug discovery.\\n\\nWhile AI's most common use cases involve helping people with their everyday tasks, it can also go far beyond that, even helping make medical breakthroughs.\\n\\nAlso: Can AI outdiagnose doctors? Microsoft's tool is 4 times better for complex cases [...] Though still new, AI has made several recent strides for medical use cases. Last year, for example, AI models' tendency to hallucinate actually helped Stanford researchers find new drug compounds at an exponentially faster rate than they could have with basic computing alone. At the same time, however, studies show AI chatbot users are perhaps over-reliant on AI tools for medical advice, which can be factually incorrect or otherwise unreliable, and does not replace information from a medical [...] Last week, Harvard Medical School published a study on a new AI model called PDGrapher. According to Harvard, the model can analyze the connections between genes, proteins, and signaling pathways inside cells to identify the best combination of therapies that would effectively restore healthy cell behavior. This could enable new treatments for conditions that have previously been unable to be found via traditional methods.\\n\\n## The findings\", \"raw_content\": null}, {\"url\": \"https://www.csoonline.com/article/4054301/cisos-grapple-with-the-realities-of-applying-ai-to-security-functions.html\", \"title\": \"CISOs grapple with the realities of applying AI to security functions - csoonline.com\", \"score\": 0.54564947, \"published_date\": \"Tue, 16 Sep 2025 07:02:45 GMT\", \"content\": \"### ReVault flaws let attackers bypass Windows login or place malware implants on Dell laptops\\n\\n  Aug 6, 2025 5 mins\\n\\n## Show me more\\n\\nfeature\\n\\n### CISOs grapple with the realities of applying AI to security functions\\n\\nBy John Leyden\\n\\nSep 16, 20256 mins\\n\\nArtificial IntelligenceSecurity Operations CenterSecurity Practices\\n\\nnews\\n\\n### Delmia Apriso customers face patching emergency after CISA warns of exploit\\n\\nBy John E. Dunn\\n\\nSep 15, 20254 mins\\n\\nManufacturing IndustryVulnerabilities [...] ### Pressure on CISOs to stay silent about security incidents growing\\n\\n  Sep 4, 2025 8 mins\\n news analysis\\n\\n  ### Only 49% of companies to increase cyber budget after a breach\\n\\n  Aug 27, 2025 5 mins\\n feature\\n\\n  ### What is the cost of a data breach?\\n\\n  Aug 22, 2025 13 mins\\n feature\\n\\n  ### Enterprise passwords becoming even easier to steal and abuse\\n\\n  Aug 21, 2025 7 mins\\n news analysis\\n\\n  ### 5 key takeaways from Black Hat USA 2025\\n\\n  Aug 12, 2025 5 mins\\n news [...] Recent research, cited by Rana, showed that AI systems can correctly flag 89% of malicious files as malware. However, under the toughest test conditions a prototype autonomous AI-based system caught only 26% of all actual malware.\\n\\nThese figures come from experiments by Microsoft Research on Project Ire, an AI-based malware classification prototype, in a demanding test on 4,000 files not classified by automated systems and slated for manual review.\", \"raw_content\": null}, {\"url\": \"https://www.cio.com/article/4057061/answering-the-question-of-which-ai-tools-deliver-measurable-value.html\", \"title\": \"Answering the question of which AI tools deliver measurable value - cio.com\", \"score\": 0.5078369, \"published_date\": \"Tue, 16 Sep 2025 08:46:44 GMT\", \"content\": \"By Estelle Quek\\n\\nSep 10, 202531 mins\\n\\nArtificial IntelligenceDigital TransformationInsurance Industry\\n\\npodcast\\n\\n### First Person Meets... Greg Finnigan: Being your authentic self\\n\\nSep 8, 202530 mins\\n\\nCareersCloud ManagementSecurity Hardware\\n\\nvideo\\n\\n### Why AI upskilling fails, and how tech leaders are fixing it | What IT Leaders Want, Ep. 11\\n\\nSep 12, 202528 mins\\n\\nCareersGenerative AI\\n\\nvideo\\n\\n### IBM, AWS unite to scale trustworthy AI with seamless governance integration\\n\\nSep 11, 202513 mins [...] But given how rapidly AI is reshaping fundamental business infrastructure, Disrupt is also essential viewing. The pace of change has accelerated beyond anything we’ve seen before; it’s going to make three days at Moscone Center feel less like industry theater and more like critical intelligence gathering for anyone trying to navigate the future of enterprise technology.\\n\\nFind out more about TechCrunch Disrupt.\\n\\nSUBSCRIBE TO OUR NEWSLETTER\\n\\n### From our editors straight to your inbox [...] ### Built for speed, ready to scale: Why your next PC should be a Windows 11 Pro with Intel VPro® or Copilot+ powered by Intel® Core™ Ultra\\n\\nSep 16, 20254 mins\\n\\nBusiness OperationsDigital Transformation\\n\\npodcast\\n\\n### Why AI upskilling fails, and how tech leaders are fixing it | What IT Leaders Want, Ep. 11\\n\\nSep 12, 202528 mins\\n\\nCareersGenerative AI\\n\\npodcast\\n\\n### CIO ASEAN Leadership Live with McKinsey: Transformative role of AI and GenAI in the insurance sector in Southeast Asia.\", \"raw_content\": null}], \"response_time\": 1.1, \"request_id\": \"7f2f439f-abbd-4a72-b785-c621d87a85a3\"}\n"
     ]
    }
   ],
   "source": [
    "for m in response['messages']:\n",
    "  m.pretty_print()"
   ]
  },
  {
   "cell_type": "code",
   "execution_count": 108,
   "id": "01d36c94",
   "metadata": {},
   "outputs": [
    {
     "name": "stdout",
     "output_type": "stream",
     "text": [
      "================================\u001b[1m Human Message \u001b[0m=================================\n",
      "\n",
      "what is 2 multiplied by 4\n",
      "==================================\u001b[1m Ai Message \u001b[0m==================================\n",
      "Tool Calls:\n",
      "  multiply (fc_d2ab5b43-c970-474d-b394-1b29899f2c84)\n",
      " Call ID: fc_d2ab5b43-c970-474d-b394-1b29899f2c84\n",
      "  Args:\n",
      "    a: 2\n",
      "    b: 4\n",
      "=================================\u001b[1m Tool Message \u001b[0m=================================\n",
      "Name: multiply\n",
      "\n",
      "8\n"
     ]
    }
   ],
   "source": [
    "#fro mulitply invoke\n",
    "response = graph.invoke({\"messages\":\"what is 2 multiplied by 4\"})\n",
    "for m in response['messages']:\n",
    "  m.pretty_print()"
   ]
  },
  {
   "cell_type": "markdown",
   "id": "a0431e6a",
   "metadata": {},
   "source": [
    "### ReAct Agent Architecture \n"
   ]
  },
  {
   "cell_type": "code",
   "execution_count": 125,
   "id": "28d82992",
   "metadata": {},
   "outputs": [
    {
     "data": {
      "image/png": "[encoded data removed]",
      "text/plain": [
       "<IPython.core.display.Image object>"
      ]
     },
     "metadata": {},
     "output_type": "display_data"
    }
   ],
   "source": [
    "## State Graph \n",
    "#creating a toolnode \n",
    "from langgraph.graph import StateGraph,START,END\n",
    "from langgraph.prebuilt import ToolNode\n",
    "from langgraph.prebuilt import tools_condition\n",
    "\n",
    "##node def\n",
    "def tool_calling_llm(state:State):\n",
    "  return {\"messages\":[llm_with_tool.invoke(state[\"messages\"])]}\n",
    "\n",
    "\n",
    "##graph \n",
    "builder = StateGraph(State)\n",
    "builder.add_node(\"tool_calling_llm\",tool_calling_llm)\n",
    "builder.add_node(\"tools\",ToolNode(tools))\n",
    "\n",
    "#add edges \n",
    "builder.add_edge(START,\"tool_calling_llm\")\n",
    "# builder.add_edge(\"tool_calling_llm\",tools_condition)\n",
    "builder.add_conditional_edges(\n",
    "    \"tool_calling_llm\",  # from this node\n",
    "    tools_condition,     # condition function\n",
    ")\n",
    "builder.add_edge(\"tools\",\"tool_calling_llm\")\n",
    "\n",
    "#complining the graph \n",
    "graph = builder.compile()\n",
    "\n",
    "from IPython.display import Image,display\n",
    "display(Image(graph.get_graph().draw_mermaid_png()))"
   ]
  },
  {
   "cell_type": "code",
   "execution_count": 126,
   "id": "4a4c8ffd",
   "metadata": {},
   "outputs": [
    {
     "name": "stdout",
     "output_type": "stream",
     "text": [
      "================================\u001b[1m Human Message \u001b[0m=================================\n",
      "\n",
      "what is 2 multiplied by 4 and then give me latest news\n",
      "==================================\u001b[1m Ai Message \u001b[0m==================================\n",
      "Tool Calls:\n",
      "  tavily_search (fc_1166359a-0f3e-4a25-a464-283e469c0167)\n",
      " Call ID: fc_1166359a-0f3e-4a25-a464-283e469c0167\n",
      "  Args:\n",
      "    query: latest news\n",
      "    search_depth: advanced\n",
      "    topic: news\n",
      "=================================\u001b[1m Tool Message \u001b[0m=================================\n",
      "Name: tavily_search\n",
      "\n",
      "{\"query\": \"latest news\", \"follow_up_questions\": null, \"answer\": null, \"images\": [], \"results\": [{\"url\": \"https://www.democratandchronicle.com/press-release/story/102711/trending-today-launches-new-podcast-to-expand-on-the-award-winning-tv-series/\", \"title\": \"‘Trending Today’ Launches New Podcast to Expand on the Award-Winning TV Series - Democrat and Chronicle\", \"score\": 0.5113512, \"published_date\": \"Thu, 11 Sep 2025 18:42:07 GMT\", \"content\": \"### Breakthrough 3D Virtual Care Debuts at athenahealth Thrive Summit\\n\\nThe most advanced AI RPM TeleCare solution available LAS CRUCES, NEW MEXICO / ACCESS Newswire / September 9, 2025 / Electronic Caregiver, Inc. announced today…\\n\\nSeptember 11, 2025\\n\\n### Ilumin Reveals Early Cataract Signs People Often Miss\\n\\n– Cataracts remain one of the most common causes of vision impairment in adults, yet the earliest symptoms often go unrecognized. In a new article…\\n\\nSeptember 11, 2025 [...] September 11, 2025\\n\\n### GoodData Acquires Understand Labs, Accelerates AI Data Storytelling and Agentic Vision\\n\\nAcquisition expands agent-driven analytics and storytelling as GoodData advances enterprise data intelligence. SAN FRANCISCO, CA / ACCESS Newswire / September 9, 2025 / GoodData, the…\\n\\nSeptember 11, 2025\\n\\n### 1933 Industries Closes Repurchase and Cancellation of Convertible Debentures [...] ### Mellow Sleep Announces Launch of Advanced Cooling Ergonomic Pillow for Side Sleepers\\n\\nDover, Delaware – September 09, 2025 – (PRESS ADVANTAGE) – DOVER, DE – Mellow Sleep, a company focused on sleep ergonomics and material science, today…\\n\\nSeptember 11, 2025\\n\\n### Revolutionizing Welding Automation: Watch Gullco’s Hercules High Deposition Solution Live at FABTECH 2025\", \"raw_content\": null}, {\"url\": \"https://www.newsghana.com.gh/mining-company-wrecks-cocoa-farms-under-armed-guard-diaso-police-extort-farmers/\", \"title\": \"Mining Company Wrecks Cocoa Farms Under Armed Guard; Diaso Police Extort Farmers - News Ghana\", \"score\": 0.4892356, \"published_date\": \"Wed, 10 Sep 2025 14:21:22 GMT\", \"content\": \"### The latest\\n\\n\\n\\n### Ken Agyapong should face prison over false murder claim against me – Nigel Gaisie\\n\\nNewsSeptember 10, 20250\\n\\nProphet Nigel Gaisie, Founder and Head Pastor of the...\\n\\n\\n\\n### Ghana to host maiden Space Conference 2025 as Africa’s Space economy is projected to skyrocket to $22.6B by 2026\\n\\nNewsSeptember 10, 20250\\n\\nAccra is set to make history as it welcomes...\\n\\n\\n\\n### 2025 Agritech West Africa Expo to attract 4000 business and exhibitors\\n\\nBusinessSeptember 10, 20250 [...] ### Ken Agyapong should face prison over false murder claim against me – Nigel Gaisie   News  ### Ghana to host maiden Space Conference 2025 as Africa’s Space economy is projected to skyrocket to $22.6B by 2026   News  ### Mining Company Wrecks Cocoa Farms Under Armed Guard; Diaso Police Extort Farmers   News  ### Govt Officials Rehearsing for Borteyman Lands …Owned by Nii Bortey Seysey Family      ### 2025 Agritech West Africa Expo to attract 4000 business and exhibitors   Business  ### [...] Launches Groundbreaking Rugby Programme for Girls      ### Rising Hip-Hop Voice Clem Biney Inspires with ‘I Am That I Am EP’   Entertainment  ### Victory in His Presence – Accra Edition Delivers Spirit-Filled Night of Worship and Encounters   Entertainment  ### Gospel Rising Star Oki Sekum Unveils Two Powerful Singles Recorded Live — “Celebrate Jesus” and “No One”   Entertainment  ### Apple Music’s Latest Africa Rising Recipient Is Budding Nigerian Talent, Salle   Entertainment  ### Apple Music\", \"raw_content\": null}, {\"url\": \"https://www.theglobeandmail.com/business/article-teck-anglo-deal-carney-wealthsimple-sept-14/\", \"title\": \"Teck and Anglo American’s deal, Carney’s fast-tracked projects and Wealthsimple’s data breach apology: Must-read business and investing stories - The Globe and Mail\", \"score\": 0.37882724, \"published_date\": \"Sun, 14 Sep 2025 13:00:00 GMT\", \"content\": \"### Quebec orders Lion Electric school buses off the roads for urgent inspections after Montreal fire\\n\\n### Ottawa working toward pipeline, oil sands growth with carbon capture project\\n\\n### OSC accuses Purpose Investment and founder Som Seif of greenwashing\\n\\n### Real estate regulator seeks court order to recover millions allegedly removed from trust accounts at iPro Realty\\n\\n## More for you\\n\\n### In Portland, fears grow that Trump’s crackdown is coming and will make life worse [...] Dig deep into stock quotes for the latest insights, news and real-time prices\\n\\nStart now\\n\\nThe Globe Women's Collective\\n\\n## Bringing women at all career stages together\\n\\nFocused reporting aimed at moving the needle toward gender equity in the workplace\\n\\nexplore now\\n\\n Health & wellness newsletter\\n\\n  ## Be well\\n\\n  Keep up to date on the latest nutrition news and dietary advice, fitness tips and wellness trends\\n\\n  sign up\\n Watchlist\\n\\n  ## A good investor uses the right tools [...] Dig deep into stock quotes for the latest insights, news and real-time prices\\n\\n  Start now\\n Globe Events\\n\\n  ## How is climate change impacting our health?\\n\\n  Oct. 6 @ 12:00 P.M. ET | Toronto | Join The Globe's André Picard for an event exploring solutions for healthier people and a healthier planet.\\n\\n  Register Now\\n The Globe Women's Collective\\n\\n  ## Bringing women at all career stages together\\n\\n  Focused reporting aimed at moving the needle toward gender equity in the workplace\", \"raw_content\": null}, {\"url\": \"https://nypost.com/2025/09/11/world-news/israel-strike-on-doha-killed-any-hope-of-hostage-deal-qatar-says/\", \"title\": \"Israel strike on Doha ‘killed any hope’ of hostage release deal in Gaza: Qatar - New York Post\", \"score\": 0.37216341, \"published_date\": \"Thu, 11 Sep 2025 23:19:00 GMT\", \"content\": \"##### Adorable photos show Chilean flamingo chick taking its first steps\\n\\n##### British PM fires US ambassador ahead of Trump state visit over...\\n\\nWorld News\\n\\n# Israel strike on Doha ‘killed any hope’ of hostage release deal in Gaza: Qatar\\n\\nBy\\n\\nRonny Reyes\\n\\nPublished \\nSep. 11, 2025, 7:19 p.m. ET\\n\\nIsrael “killed any hope” of securing a cease-fire deal to free the remaining hostages being held in Gaza after it attacked Hamas’ negotiating team in Doha, Qatar’s prime minister said on Thursday. [...] #### trending now in World News\\n\\nSkip to main content\\n\\n##### Lions eat zookeeper alive in horrific attack filmed by tourists:...\\n\\n##### Accused Minnesota assassin hints at motive during bombshell...\\n\\n##### Russian drone incursion over Poland was 'deliberate' test — and...\\n\\n##### Surgeon obsessed with amputation porn has legs chopped off for...\\n\\n##### Emirates makes controversial change to kids' rule in First Class\\n\\n##### Brazilian Supreme Court panel sentences Bolsonaro to more than 27...\", \"raw_content\": null}, {\"url\": \"https://nypost.com/2025/09/13/world-news/support-for-putins-invasion-of-ukraine-drops-to-lowest-ever-level-inside-russia-survey/\", \"title\": \"Support for Putin’s invasion of Ukraine drops to lowest-ever level inside Russia: survey - New York Post\", \"score\": 0.3283684, \"published_date\": \"Sat, 13 Sep 2025 17:28:00 GMT\", \"content\": \"##### Thousands of protesters swarm London for anti-immigration march...\\n\\n##### Russian commander mocks complaining soldier, says cooks have been...\\n\\nWorld News\\n\\n# Support for Putin’s Ukraine invasion drops to lowest-ever level within Russia: survey\\n\\nBy\\n\\nGabrielle Fahmy\\n\\nPublished \\nSep. 13, 2025, 1:28 p.m. ET\\n\\nSupport for Vladimir Putin’s war in Ukraine has plummeted to its lowest point within Russia since the full-scale invasion began in February 2022, a new survey found. [...] #### trending now in World News\\n\\nSkip to main content\\n\\n##### Manhattan-sized interstellar object turning green as something is...\\n\\n##### Canadian watchdog busts dozens of supermarkets for 'maple washing...\\n\\n##### Lions eat zookeeper alive in horrific attack filmed by tourists:...\\n\\n##### Thousands in Poland sign up for military training over fears of...\\n\\n##### Accused Minnesota assassin hints at motive during bombshell...\\n\\n##### Ukraine strikes key Russian oil terminal in largest drone attack... [...] Meanwhile, a little more than 50% of Russians say the fighting has had a direct personal impact on them — with 30% saying a loved one has been killed in the conflict and 20% admitting they were struggling emotionally.\\n\\nTwo-third of Russians say they want peace negotiations to end the war in Ukraine. AP\\n\\nRussians are growing pessimistic of an imminent end to the war. Global Images Ukraine via Getty Images\\n\\nSupport of the conflict with Ukraine is wavering inside Russia. ZUMAPRESS.com\", \"raw_content\": null}], \"response_time\": 1.2, \"request_id\": \"3e5a2485-bdf9-4066-be38-66493429a07a\"}\n",
      "==================================\u001b[1m Ai Message \u001b[0m==================================\n",
      "\n",
      "**2 × 4 = 8**\n",
      "\n",
      "---\n",
      "\n",
      "### Snapshot of the latest news (as of Sept 2025)\n",
      "\n",
      "| Date | Headline | Key Take‑away |\n",
      "|------|----------|---------------|\n",
      "| **Sep 11 2025** | *“Trending Today” launches a new podcast* – Democrat & Chronicle | The popular TV series is expanding into audio, aiming to deepen engagement with its audience. |\n",
      "| **Sep 10 2025** | *Ghana to host maiden Space Conference 2025* – News Ghana | Ghana is positioning itself as a growing player in the African space economy, projected to reach $22.6 B by 2026. |\n",
      "| **Sep 14 2025** | *Teck and Anglo American deal, Carney’s fast‑tracked projects* – The Globe & Mail | Major mining partnership announced, with implications for pipeline and carbon‑capture projects in Canada. |\n",
      "| **Sep 11 2025** | *Israel strike on Doha ‘killed any hope’ of hostage release deal* – New York Post | Israeli attack on Doha’s Hamas negotiation team is seen as a blow to potential hostage‑release talks. |\n",
      "| **Sep 13 2025** | *Support for Putin’s Ukraine invasion drops to lowest‑ever level inside Russia* – New York Post | A recent survey shows a historic dip in pro‑war sentiment among Russians. |\n",
      "\n",
      "**Sources**\n",
      "\n",
      "- Democrat & Chronicle, “‘Trending Today’ Launches New Podcast” – [link](https://www.democratandchronicle.com/press-release/story/102711/trending-today-launches-new-podcast-to-expand-on-the-award-winning-tv-series/)\n",
      "- News Ghana, “Ghana to host maiden Space Conference 2025” – [link](https://www.newsghana.com.gh/mining-company-wrecks-cocoa-farms-under-armed-guard-diaso-police-extort-farmers/)\n",
      "- The Globe & Mail, “Teck and Anglo American’s deal, Carney’s fast‑tracked projects” – [link](https://www.theglobeandmail.com/business/article-teck-anglo-deal-carney-wealthsimple-sept-14/)\n",
      "- New York Post, “Israel strike on Doha ‘killed any hope’ of hostage release deal” – [link](https://nypost.com/2025/09/11/world-news/israel-strike-on-doha-killed-any-hope-of-hostage-deal-qatar-says/)\n",
      "- New York Post, “Support for Putin’s Ukraine invasion drops to lowest‑ever level inside Russia” – [link](https://nypost.com/2025/09/13/world-news/support-for-putins-invasion-of-ukraine-drops-to-lowest-ever-level-inside-russia-survey/)\n",
      "\n",
      "Let me know if you’d like deeper coverage on any of these stories or a different angle!\n"
     ]
    }
   ],
   "source": [
    "response = graph.invoke({\"messages\":\"what is 2 multiplied by 4 and then give me latest news\"})\n",
    "for m in response['messages']:\n",
    "  m.pretty_print()"
   ]
  },
  {
   "cell_type": "markdown",
   "id": "3bd68476",
   "metadata": {},
   "source": [
    "### ADDING MEM in GRAPH\n"
   ]
  },
  {
   "cell_type": "code",
   "execution_count": null,
   "id": "4bc6ba7a",
   "metadata": {},
   "outputs": [
    {
     "data": {
      "image/png": "[encoded data removed]",
      "text/plain": [
       "<IPython.core.display.Image object>"
      ]
     },
     "metadata": {},
     "output_type": "display_data"
    }
   ],
   "source": [
    "## State Graph \n",
    "#creating a toolnode \n",
    "from langgraph.graph import StateGraph,START,END\n",
    "from langgraph.prebuilt import ToolNode\n",
    "from langgraph.prebuilt import tools_condition\n",
    "from langgraph.checkpoint.memory import MemorySaver  #to remember previous context \n",
    "\n",
    "memory = MemorySaver()\n",
    "\n",
    "##node def\n",
    "def tool_calling_llm(state:State):\n",
    "  return {\"messages\":[llm_with_tool.invoke(state[\"messages\"])]}\n",
    "\n",
    "\n",
    "##graph \n",
    "builder = StateGraph(State)\n",
    "builder.add_node(\"tool_calling_llm\",tool_calling_llm)\n",
    "builder.add_node(\"tools\",ToolNode(tools))\n",
    "\n",
    "#add edges \n",
    "builder.add_edge(START,\"tool_calling_llm\")\n",
    "# builder.add_edge(\"tool_calling_llm\",tools_condition)\n",
    "builder.add_conditional_edges(\n",
    "    \"tool_calling_llm\",  # from this node\n",
    "    tools_condition,     # condition function\n",
    ")\n",
    "builder.add_edge(\"tools\",\"tool_calling_llm\")\n",
    "\n",
    "#complining the graph \n",
    "graph = builder.compile(checkpointer=memory)\n",
    "\n",
    "from IPython.display import Image,display\n",
    "display(Image(graph.get_graph().draw_mermaid_png()))"
   ]
  },
  {
   "cell_type": "code",
   "execution_count": 133,
   "id": "5636c495",
   "metadata": {},
   "outputs": [
    {
     "data": {
      "text/plain": [
       "{'messages': [HumanMessage(content='Hi my name is Chirag', additional_kwargs={}, response_metadata={}, id='e2b6eea2-0d1c-4048-82f1-58de0aa4c99b'),\n",
       "  AIMessage(content='Hello Chirag! 👋 How can I help you today?', additional_kwargs={'reasoning_content': 'We need to respond to greeting. Probably ask how can help.'}, response_metadata={'token_usage': {'completion_tokens': 36, 'prompt_tokens': 1391, 'total_tokens': 1427, 'completion_time': 0.032212967, 'prompt_time': 0.090895893, 'queue_time': 0.047888878, 'total_time': 0.12310886}, 'model_name': 'openai/gpt-oss-20b', 'system_fingerprint': 'fp_4c4aa6a4a4', 'service_tier': 'on_demand', 'finish_reason': 'stop', 'logprobs': None}, id='run--c299e85a-2cf4-448f-b9dc-455e130391bb-0', usage_metadata={'input_tokens': 1391, 'output_tokens': 36, 'total_tokens': 1427})]}"
      ]
     },
     "execution_count": 133,
     "metadata": {},
     "output_type": "execute_result"
    }
   ],
   "source": [
    "config = {\"configurable\":{\"thread_id\":\"1\"}}\n",
    "\n",
    "response = graph.invoke({\"messages\":\"Hi my name is Chirag\"},config=config)\n",
    "\n",
    "response"
   ]
  },
  {
   "cell_type": "code",
   "execution_count": 136,
   "id": "7f38318e",
   "metadata": {},
   "outputs": [
    {
     "name": "stdout",
     "output_type": "stream",
     "text": [
      "You’re Chirag.\n"
     ]
    }
   ],
   "source": [
    "response = graph.invoke({\"messages\":\"What is my name\"},config=config)\n",
    "print(response['messages'][-1].content)\n"
   ]
  },
  {
   "cell_type": "code",
   "execution_count": null,
   "id": "ac29d865",
   "metadata": {},
   "outputs": [],
   "source": []
  }
 ],
 "metadata": {
  "kernelspec": {
   "display_name": "Ortho_Python_Practice",
   "language": "python",
   "name": "python3"
  },
  "language_info": {
   "codemirror_mode": {
    "name": "ipython",
    "version": 3
   },
   "file_extension": ".py",
   "mimetype": "text/x-python",
   "name": "python",
   "nbconvert_exporter": "python",
   "pygments_lexer": "ipython3",
   "version": "3.12.7"
  }
 },
 "nbformat": 4,
 "nbformat_minor": 5
}
